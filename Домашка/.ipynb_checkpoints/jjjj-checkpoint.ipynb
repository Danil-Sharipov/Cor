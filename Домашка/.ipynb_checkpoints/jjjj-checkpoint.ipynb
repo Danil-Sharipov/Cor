{
 "cells": [
  {
   "cell_type": "code",
   "execution_count": 14,
   "id": "19f4abc9-5a2d-46a7-9fd1-824323ce9e9a",
   "metadata": {
    "tags": []
   },
   "outputs": [],
   "source": [
    "import random\n",
    "import tqdm"
   ]
  },
  {
   "cell_type": "code",
   "execution_count": 9,
   "id": "4e99a12d-6412-4052-895f-87fd90ff6db3",
   "metadata": {
    "tags": []
   },
   "outputs": [],
   "source": [
    "diction = {}"
   ]
  },
  {
   "cell_type": "code",
   "execution_count": 10,
   "id": "927b8898-cc17-4184-bd82-6815ac142d9b",
   "metadata": {
    "tags": []
   },
   "outputs": [],
   "source": [
    "# 1 1/10^14"
   ]
  },
  {
   "cell_type": "code",
   "execution_count": 11,
   "id": "7e9daf4b-2d98-4b87-b6b2-7f9d9afe01e0",
   "metadata": {
    "tags": []
   },
   "outputs": [
    {
     "ename": "SyntaxError",
     "evalue": "invalid syntax (1470204138.py, line 1)",
     "output_type": "error",
     "traceback": [
      "\u001b[1;36m  Input \u001b[1;32mIn [11]\u001b[1;36m\u001b[0m\n\u001b[1;33m    N = N 1/1e14\u001b[0m\n\u001b[1;37m          ^\u001b[0m\n\u001b[1;31mSyntaxError\u001b[0m\u001b[1;31m:\u001b[0m invalid syntax\n"
     ]
    }
   ],
   "source": [
    "N = N 1/1e14"
   ]
  },
  {
   "cell_type": "code",
   "execution_count": 15,
   "id": "ff490088-4d00-4c60-ade4-be051b5e7905",
   "metadata": {
    "tags": []
   },
   "outputs": [
    {
     "name": "stderr",
     "output_type": "stream",
     "text": [
      "  0%|                                                   | 376979265/100000000000000 [02:53<12796:05:24, 2170793.79it/s]\n"
     ]
    },
    {
     "ename": "KeyboardInterrupt",
     "evalue": "",
     "output_type": "error",
     "traceback": [
      "\u001b[1;31m---------------------------------------------------------------------------\u001b[0m",
      "\u001b[1;31mKeyboardInterrupt\u001b[0m                         Traceback (most recent call last)",
      "Input \u001b[1;32mIn [15]\u001b[0m, in \u001b[0;36m<cell line: 1>\u001b[1;34m()\u001b[0m\n\u001b[1;32m----> 1\u001b[0m \u001b[38;5;28;01mfor\u001b[39;00m i \u001b[38;5;129;01min\u001b[39;00m tqdm\u001b[38;5;241m.\u001b[39mtqdm(\u001b[38;5;28mrange\u001b[39m(\u001b[38;5;28mint\u001b[39m(\u001b[38;5;241m1e14\u001b[39m))):\n\u001b[0;32m      2\u001b[0m     count \u001b[38;5;241m=\u001b[39m \u001b[38;5;241m0\u001b[39m\n",
      "\u001b[1;31mKeyboardInterrupt\u001b[0m: "
     ]
    }
   ],
   "source": [
    "for i in tqdm.tqdm(range(int(1e14))):\n",
    "    count = 0\n",
    "    "
   ]
  },
  {
   "cell_type": "code",
   "execution_count": 17,
   "id": "02705f63-82d4-4a30-be09-1ee08c169202",
   "metadata": {
    "tags": []
   },
   "outputs": [
    {
     "name": "stderr",
     "output_type": "stream",
     "text": [
      "100%|██████████████████████████████████████████████████████████████████████| 1000000/1000000 [03:13<00:00, 5160.99it/s]"
     ]
    },
    {
     "name": "stdout",
     "output_type": "stream",
     "text": [
      "Среднее значение наибольшего количества очков: 11.572618\n"
     ]
    },
    {
     "name": "stderr",
     "output_type": "stream",
     "text": [
      "\n"
     ]
    }
   ],
   "source": [
    "import random\n",
    "\n",
    "def simulate_monte_carlo(n, num_simulations):\n",
    "    max_score_sum = 0  # Сумма наибольшего количества очков в каждой симуляции\n",
    "\n",
    "    for _ in tqdm.tqdm(range(num_simulations)):\n",
    "        current_score = 0  # Текущее количество очков\n",
    "        max_score = 0  # Наибольшее количество очков в текущей симуляции\n",
    "\n",
    "        for _ in range(n):\n",
    "            # Генерация решки (1) или орла (-1)\n",
    "            coin_toss = 1 if random.random() < 0.5 else -1\n",
    "\n",
    "            # Обновление текущего количества очков\n",
    "            current_score = max(0, current_score + coin_toss)\n",
    "\n",
    "            # Обновление наибольшего количества очков\n",
    "            max_score = max(max_score, current_score)\n",
    "\n",
    "        # Обновление суммы наибольшего количества очков\n",
    "        max_score_sum += max_score\n",
    "\n",
    "    # Среднее значение наибольшего количества очков\n",
    "    average_max_score = max_score_sum / num_simulations\n",
    "    return average_max_score\n",
    "\n",
    "# Параметры симуляции\n",
    "num_coin_tosses = 100  # Количество бросков монеты\n",
    "num_simulations = 1000000  # Количество симуляций метода Монте-Карло\n",
    "\n",
    "# Вызов функции для вычисления среднего значения наибольшего количества очков\n",
    "average_max_score = simulate_monte_carlo(num_coin_tosses, num_simulations)\n",
    "print(f\"Среднее значение наибольшего количества очков: {average_max_score}\")"
   ]
  },
  {
   "cell_type": "code",
   "execution_count": null,
   "id": "2cb0d4fd-5d50-4e05-8d43-d35e4dee6ff8",
   "metadata": {},
   "outputs": [],
   "source": []
  }
 ],
 "metadata": {
  "kernelspec": {
   "display_name": "Python 3 (ipykernel)",
   "language": "python",
   "name": "python3"
  },
  "language_info": {
   "codemirror_mode": {
    "name": "ipython",
    "version": 3
   },
   "file_extension": ".py",
   "mimetype": "text/x-python",
   "name": "python",
   "nbconvert_exporter": "python",
   "pygments_lexer": "ipython3",
   "version": "3.8.7"
  }
 },
 "nbformat": 4,
 "nbformat_minor": 5
}
