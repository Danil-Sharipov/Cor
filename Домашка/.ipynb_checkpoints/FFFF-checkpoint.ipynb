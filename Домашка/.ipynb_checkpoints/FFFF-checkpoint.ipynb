{
 "cells": [
  {
   "cell_type": "code",
   "execution_count": null,
   "id": "aed22a20-060f-4345-8b8e-7ff788854fb9",
   "metadata": {
    "tags": []
   },
   "outputs": [],
   "source": [
    "import json\n",
    "from urllib import request\n",
    "\n",
    "\n",
    "url = \"https://www.cbr-xml-daily.ru/daily_json.js\"\n",
    "\n",
    "with request.urlopen(url) as req:\n",
    "    text = req.read().decode(\"UTF-8\")\n",
    "# print(result)\n",
    "\n",
    "\n",
    "data = json.loads(text)\n",
    "\n",
    "currencies = [\"AZN\", \"GBP\", \"USD\"]\n",
    "with open('./json.json','w',encoding='utf-8') as f:\n",
    "    diction = {}\n",
    "    for cur in currencies:\n",
    "        diction[cur] = data['Valute'][cur]\n",
    "    json.dump(diction, f, indent=True)"
   ]
  },
  {
   "cell_type": "code",
   "execution_count": 1,
   "id": "8f74cb60-fe99-46e5-aace-a7dd280d1675",
   "metadata": {},
   "outputs": [
    {
     "name": "stdout",
     "output_type": "stream",
     "text": [
      "0: Аримафеи\n",
      "1: Вавилон\n",
      "2: Вифанию\n",
      "3: Вифлеем\n",
      "4: Галилею\n",
      "5: Гергесинскую\n",
      "6: Египте\n",
      "7: Иерихона\n",
      "8: Иерусалим\n",
      "9: Израиле\n",
      "10: Иордане\n",
      "11: Иудее\n",
      "12: Капернаум\n",
      "13: Кесарии\n",
      "14: Котором\n",
      "15: Магдалинские\n",
      "16: Назарета\n",
      "17: Писании\n",
      "18: Самарянский\n",
      "19: Содоме\n",
      "20: Тирские\n",
      "21: Царство\n"
     ]
    }
   ],
   "source": [
    "import re\n",
    "from itertools import combinations\n",
    "answer = []\n",
    "#pattern = [r'([А-Я][а-яё]{3,})']\n",
    "pattern = r'\\s(?:[вВ]|[иИ]з|в предел[а-я]?|город[а-я]?|стран[а-я]?) ([А-Я][а-яё]{4,})'\n",
    "def tanimoto(s1, s2): # коэффициент Танимото\n",
    "    a, b, c = len(s1), len(s2), 0.0\n",
    "\n",
    "    for sym in s1:\n",
    "        if sym in s2:\n",
    "            c += 1\n",
    "    return c / (a + b - c)\n",
    "\n",
    "def levenstein(str_1, str_2): # Расстояние левенштейна\n",
    "    n, m = len(str_1), len(str_2)\n",
    "    if n > m:\n",
    "        str_1, str_2 = str_2, str_1\n",
    "        n, m = m, n\n",
    "\n",
    "    current_row = range(n + 1)\n",
    "    for i in range(1, m + 1):\n",
    "        previous_row, current_row = current_row, [i] + [0] * n\n",
    "        for j in range(1, n + 1):\n",
    "            add, delete, change = previous_row[j] + 1, current_row[j - 1] + 1, previous_row[j - 1]\n",
    "            if str_1[j - 1] != str_2[i - 1]:\n",
    "                change += 1\n",
    "            current_row[j] = min(add, delete, change)\n",
    "    return current_row[n]\n",
    "\n",
    "def subseq(s1, s2):\n",
    "    func = lambda x: map(lambda y: hash(x[:y]), range(len(x)))\n",
    "    s11 = func(s1)\n",
    "    s22 = func(s2)\n",
    "    counter = 0\n",
    "    for i, j in zip(s11, s22):\n",
    "        if i == j:\n",
    "            counter+=1\n",
    "            continue\n",
    "        break\n",
    "    else:\n",
    "        return 1\n",
    "    return counter/min(map(len,(s1,s2)))\n",
    "\n",
    "def fff(func,func2,answer):\n",
    "    while 1:\n",
    "        diction = set()\n",
    "        for i, j in combinations(answer,2):\n",
    "            check = func(i, j)\n",
    "            if func2(check):\n",
    "                diction.add(j if len(i)<len(j) else i)\n",
    "        if len(diction) == 0:\n",
    "            break\n",
    "        for i in diction:\n",
    "            answer.remove(i)\n",
    "    return answer\n",
    "\n",
    "with open('./Mathew.txt','r',encoding='utf-8') as f:\n",
    "    for i in f.readlines():\n",
    "        answer.extend(re.findall(pattern,i))\n",
    "answer = sorted(list(set(answer)))\n",
    "\n",
    "\n",
    "# очистка от форм\n",
    "answer = fff(subseq,lambda x: x>0.9,answer)\n",
    "answer = fff(levenstein,lambda x: x<=2,answer)\n",
    "answer = fff(tanimoto,lambda x: x>0.9,answer)\n",
    "for indx, i in enumerate(answer):\n",
    "    print(f'{indx}: {i}')\n",
    "            \n",
    "        \n",
    "# Генисаретское озеро\n",
    "# Самария\n",
    "#\n"
   ]
  },
  {
   "cell_type": "code",
   "execution_count": null,
   "id": "2c0bd8a0-b8b9-4091-a8a7-7f652263286f",
   "metadata": {
    "tags": []
   },
   "outputs": [],
   "source": [
    "list_of_names = [\"Авеля\", \"Авимелеха\", \"Амалек\", \"Арам\", \"Аримафеи\", \"Ассирия\", \"Вавилон\", \"Галилея\", \"Гефсимания\", \"Голгофа\", \"Едом\", \"Египет\", \"Ефес\", \"Ерихон\", \"Иерихон\", \"Иерусалим\", \"Иордания\", \"Иордан\", \"Исава\", \"Иудея\", \"Иудейские пустыни\", \"Иудеи\", \"Капернаум\", \"Кесария\", \"Кирения\", \"Ливия\", \"Манассия\", \"Назарет\", \"Ниневия\", \"Осия\", \"Самария\", \"Сион\", \"Содом\", \"Тире\", \"Хоразин\", \"Эдем\"]\n",
    "len(list_of_names)"
   ]
  },
  {
   "cell_type": "code",
   "execution_count": null,
   "id": "892a6614-e047-4210-997d-a0cbd5bb884b",
   "metadata": {
    "tags": []
   },
   "outputs": [],
   "source": [
    "answer"
   ]
  },
  {
   "cell_type": "code",
   "execution_count": null,
   "id": "7a0f2168-248f-440e-aeed-0b970318f0ee",
   "metadata": {
    "tags": []
   },
   "outputs": [],
   "source": [
    "pattern = r'^[а-яА-Я]{1,} ([а-яА-Я]{1,}).*(?=шпалу)'\n",
    "f = re.findall(pattern,'Тетя Катя тащит шпалу')"
   ]
  },
  {
   "cell_type": "code",
   "execution_count": null,
   "id": "a6e2589d-6dd0-4016-847f-bf2dfd05f4ce",
   "metadata": {
    "tags": []
   },
   "outputs": [],
   "source": [
    "print(f)"
   ]
  },
  {
   "cell_type": "code",
   "execution_count": null,
   "id": "3322684e-f352-446b-a9e6-c1bde776c6c4",
   "metadata": {
    "tags": []
   },
   "outputs": [],
   "source": [
    "!pip install pymorphy2"
   ]
  },
  {
   "cell_type": "code",
   "execution_count": null,
   "id": "3354260e-d895-4949-a459-fb7356ee3f6f",
   "metadata": {},
   "outputs": [],
   "source": []
  }
 ],
 "metadata": {
  "kernelspec": {
   "display_name": "Python 3 (ipykernel)",
   "language": "python",
   "name": "python3"
  },
  "language_info": {
   "codemirror_mode": {
    "name": "ipython",
    "version": 3
   },
   "file_extension": ".py",
   "mimetype": "text/x-python",
   "name": "python",
   "nbconvert_exporter": "python",
   "pygments_lexer": "ipython3",
   "version": "3.8.7"
  }
 },
 "nbformat": 4,
 "nbformat_minor": 5
}
