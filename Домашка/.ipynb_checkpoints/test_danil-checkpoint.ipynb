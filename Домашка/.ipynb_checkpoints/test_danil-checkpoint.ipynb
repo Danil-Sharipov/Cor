{
 "cells": [
  {
   "cell_type": "markdown",
   "id": "a740902f-c563-4f32-9d2f-dbdac13b08ea",
   "metadata": {},
   "source": [
    "# ДЗ 21.10"
   ]
  },
  {
   "cell_type": "code",
   "execution_count": 4,
   "id": "e60b5fe0-5f88-4e1a-826d-5a8f1fdf8471",
   "metadata": {
    "tags": []
   },
   "outputs": [
    {
     "name": "stdout",
     "output_type": "stream",
     "text": [
      "o\n"
     ]
    }
   ],
   "source": [
    "class Danil:\n",
    "    pass\n",
    "if __name__ == \"__main__\":\n",
    "    print('o')"
   ]
  },
  {
   "cell_type": "code",
   "execution_count": null,
   "id": "6828e488-94d7-4869-a6a4-2fe07921f69c",
   "metadata": {},
   "outputs": [],
   "source": []
  }
 ],
 "metadata": {
  "kernelspec": {
   "display_name": "Python 3 (ipykernel)",
   "language": "python",
   "name": "python3"
  },
  "language_info": {
   "codemirror_mode": {
    "name": "ipython",
    "version": 3
   },
   "file_extension": ".py",
   "mimetype": "text/x-python",
   "name": "python",
   "nbconvert_exporter": "python",
   "pygments_lexer": "ipython3",
   "version": "3.8.7"
  }
 },
 "nbformat": 4,
 "nbformat_minor": 5
}
