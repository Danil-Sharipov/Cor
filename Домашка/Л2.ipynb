{
 "cells": [
  {
   "cell_type": "code",
   "execution_count": 8,
   "id": "5590f9b9-a054-49e1-9f49-2a7a55b2dbad",
   "metadata": {
    "tags": []
   },
   "outputs": [],
   "source": [
    "from sklearn.datasets import load_digits\n",
    "from sklearn.preprocessing import scale\n",
    "from sklearn import cluster"
   ]
  },
  {
   "cell_type": "code",
   "execution_count": 9,
   "id": "432ed660-813d-4adb-a691-6bc97dbdb4ef",
   "metadata": {
    "tags": []
   },
   "outputs": [],
   "source": [
    "iris = load_digits()\n",
    "x = scale(iris.data, axis=0)\n",
    "y = iris.target"
   ]
  },
  {
   "cell_type": "code",
   "execution_count": 10,
   "id": "cad2c4fa-7ef1-46fd-a92b-81b9bd581afe",
   "metadata": {},
   "outputs": [
    {
     "data": {
      "text/plain": [
       "((1797, 64), (1797,))"
      ]
     },
     "execution_count": 10,
     "metadata": {},
     "output_type": "execute_result"
    }
   ],
   "source": [
    "x.shape, y.shape"
   ]
  },
  {
   "cell_type": "code",
   "execution_count": 11,
   "id": "5c6c293d-b2bb-4d3d-a02f-f0a10024429c",
   "metadata": {
    "tags": []
   },
   "outputs": [],
   "source": [
    "uniq = len(set(y))"
   ]
  },
  {
   "cell_type": "code",
   "execution_count": 12,
   "id": "cccc5595-a54f-4372-a575-37762d2b261f",
   "metadata": {
    "tags": []
   },
   "outputs": [
    {
     "data": {
      "text/plain": [
       "10"
      ]
     },
     "execution_count": 12,
     "metadata": {},
     "output_type": "execute_result"
    }
   ],
   "source": [
    "uniq"
   ]
  },
  {
   "cell_type": "code",
   "execution_count": 13,
   "id": "533ceb22-798c-4be7-a553-e93885aaf00e",
   "metadata": {
    "tags": []
   },
   "outputs": [
    {
     "ename": "NameError",
     "evalue": "name 'KMeans' is not defined",
     "output_type": "error",
     "traceback": [
      "\u001b[1;31m---------------------------------------------------------------------------\u001b[0m",
      "\u001b[1;31mNameError\u001b[0m                                 Traceback (most recent call last)",
      "Input \u001b[1;32mIn [13]\u001b[0m, in \u001b[0;36m<cell line: 1>\u001b[1;34m()\u001b[0m\n\u001b[1;32m----> 1\u001b[0m \u001b[38;5;28;01mclass\u001b[39;00m \u001b[38;5;21;01mMyKMeans\u001b[39;00m(\u001b[43mKMeans\u001b[49m):\n\u001b[0;32m      3\u001b[0m     \u001b[38;5;28;01mdef\u001b[39;00m \u001b[38;5;21m__init__\u001b[39m(\u001b[38;5;28mself\u001b[39m, init, n_clusters):\n\u001b[0;32m      4\u001b[0m         \u001b[38;5;28msuper\u001b[39m()\u001b[38;5;241m.\u001b[39m\u001b[38;5;21m__init__\u001b[39m(init\u001b[38;5;241m=\u001b[39minit, n_clusters\u001b[38;5;241m=\u001b[39mn_clusters, n_init\u001b[38;5;241m=\u001b[39m\u001b[38;5;241m10\u001b[39m)\n",
      "\u001b[1;31mNameError\u001b[0m: name 'KMeans' is not defined"
     ]
    }
   ],
   "source": [
    "class MyKMeans(KMeans):\n",
    "    \n",
    "    def __init__(self, init, n_clusters):\n",
    "        super().__init__(init=init, n_clusters=n_clusters, n_init=10)\n",
    "    \n",
    "    def check(self, x, y):\n",
    "        self.fit(x)\n",
    "        result = self.labels_\n",
    "        print(f'ARI: {ARI(y, result)}, AMI: {AMI(y, result)}')\n",
    "    \n",
    "    def check_plot(self, x, y):\n",
    "        %time self.check(x,y)\n",
    "        \n",
    "        x_w = np.concatenate((x, self.cluster_centers_))\n",
    "        x_tsne =umap.UMAP().fit_transform(x_w)\n",
    "        x_tsne, x_cent = x_tsne[:-self.n_clusters], x_tsne[-self.n_clusters:]\n",
    "        px.scatter(x=x_tsne[:, 0], y=x_tsne[:, 1], color=tuple(map(lambda x: f'class: {x}',y)),title='UMAP',width=1000,height=600).show()\n",
    "        # необходимо добавить еще к графику центры кластеров и границу использовать надо не px, а go"
   ]
  },
  {
   "cell_type": "code",
   "execution_count": null,
   "id": "3f0b4f04-b210-46cf-90c3-68b6c2ad5edb",
   "metadata": {},
   "outputs": [],
   "source": []
  }
 ],
 "metadata": {
  "kernelspec": {
   "display_name": "Python 3 (ipykernel)",
   "language": "python",
   "name": "python3"
  },
  "language_info": {
   "codemirror_mode": {
    "name": "ipython",
    "version": 3
   },
   "file_extension": ".py",
   "mimetype": "text/x-python",
   "name": "python",
   "nbconvert_exporter": "python",
   "pygments_lexer": "ipython3",
   "version": "3.8.7"
  }
 },
 "nbformat": 4,
 "nbformat_minor": 5
}
