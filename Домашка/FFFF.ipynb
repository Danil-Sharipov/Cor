{
 "cells": [
  {
   "cell_type": "code",
   "execution_count": null,
   "id": "aed22a20-060f-4345-8b8e-7ff788854fb9",
   "metadata": {
    "tags": []
   },
   "outputs": [],
   "source": [
    "import json\n",
    "from urllib import request\n",
    "\n",
    "\n",
    "url = \"https://www.cbr-xml-daily.ru/daily_json.js\"\n",
    "\n",
    "with request.urlopen(url) as req:\n",
    "    text = req.read().decode(\"UTF-8\")\n",
    "# print(result)\n",
    "\n",
    "\n",
    "data = json.loads(text)\n",
    "\n",
    "currencies = [\"AZN\", \"GBP\", \"USD\"]\n",
    "with open('./json.json','w',encoding='utf-8') as f:\n",
    "    diction = {}\n",
    "    for cur in currencies:\n",
    "        diction[cur] = data['Valute'][cur]\n",
    "    json.dump(diction, f, indent=True)"
   ]
  },
  {
   "cell_type": "code",
   "execution_count": null,
   "id": "b193bb38-02e5-4e6e-a82c-c590f92dc113",
   "metadata": {
    "tags": []
   },
   "outputs": [],
   "source": [
    "!mkdir data\n",
    "!mv ./Mathew.txt data/Mathew.txt"
   ]
  },
  {
   "cell_type": "code",
   "execution_count": 1,
   "id": "8f74cb60-fe99-46e5-aace-a7dd280d1675",
   "metadata": {},
   "outputs": [
    {
     "name": "stdout",
     "output_type": "stream",
     "text": [
      "0: Аримафеи\n",
      "1: Вавилон\n",
      "2: Вифанию\n",
      "3: Вифлеем\n",
      "4: Галилею\n",
      "5: Гергесинскую\n",
      "6: Египте\n",
      "7: Иерихона\n",
      "8: Иерусалим\n",
      "9: Израиле\n",
      "10: Иордане\n",
      "11: Иудее\n",
      "12: Капернаум\n",
      "13: Кесарии\n",
      "14: Котором\n",
      "15: Магдалинские\n",
      "16: Назарета\n",
      "17: Писании\n",
      "18: Самарянский\n",
      "19: Содоме\n",
      "20: Тирские\n",
      "21: Царство\n"
     ]
    }
   ],
   "source": [
    "import re\n",
    "from itertools import combinations\n",
    "answer = []\n",
    "pattern = r'\\s(?:[вВ]|[иИ]з|в предел[а-я]?|город[а-я]?|стран[а-я]?) ([А-Я][а-яё]{4,})'\n",
    "def tanimoto(s1, s2): # коэффициент Танимото\n",
    "    a, b, c = len(s1), len(s2), 0.0\n",
    "\n",
    "    for sym in s1:\n",
    "        if sym in s2:\n",
    "            c += 1\n",
    "    return c / (a + b - c)\n",
    "\n",
    "def levenstein(str_1, str_2): # Расстояние левенштейна\n",
    "    n, m = len(str_1), len(str_2)\n",
    "    if n > m:\n",
    "        str_1, str_2 = str_2, str_1\n",
    "        n, m = m, n\n",
    "\n",
    "    current_row = range(n + 1)\n",
    "    for i in range(1, m + 1):\n",
    "        previous_row, current_row = current_row, [i] + [0] * n\n",
    "        for j in range(1, n + 1):\n",
    "            add, delete, change = previous_row[j] + 1, current_row[j - 1] + 1, previous_row[j - 1]\n",
    "            if str_1[j - 1] != str_2[i - 1]:\n",
    "                change += 1\n",
    "            current_row[j] = min(add, delete, change)\n",
    "    return current_row[n]\n",
    "\n",
    "def subseq(s1, s2): # Слова начинаются одинаково\n",
    "    func = lambda x: map(lambda y: hash(x[:y]), range(len(x)))\n",
    "    s11 = func(s1)\n",
    "    s22 = func(s2)\n",
    "    counter = 0\n",
    "    for i, j in zip(s11, s22):\n",
    "        if i == j:\n",
    "            counter+=1\n",
    "            continue\n",
    "        break\n",
    "    else:\n",
    "        return 1\n",
    "    return counter/min(map(len,(s1,s2)))\n",
    "\n",
    "def fff(func,func2,answer):\n",
    "    while 1:\n",
    "        diction = set()\n",
    "        for i, j in combinations(answer,2):\n",
    "            check = func(i, j)\n",
    "            if func2(check):\n",
    "                diction.add(j if len(i)<len(j) else i)\n",
    "        if len(diction) == 0:\n",
    "            break\n",
    "        for i in diction:\n",
    "            answer.remove(i)\n",
    "    return answer\n",
    "\n",
    "with open('./data/Mathew.txt','r',encoding='utf-8') as f:\n",
    "    for i in f.readlines():\n",
    "        answer.extend(re.findall(pattern,i))\n",
    "answer = sorted(list(set(answer)))\n",
    "\n",
    "\n",
    "# очистка от форм\n",
    "answer = fff(subseq,lambda x: x>0.9,answer)\n",
    "answer = fff(levenstein,lambda x: x<=2,answer)\n",
    "answer = fff(tanimoto,lambda x: x>0.9,answer)\n",
    "for indx, i in enumerate(answer):\n",
    "    print(f'{indx}: {i}')\n"
   ]
  },
  {
   "cell_type": "code",
   "execution_count": 2,
   "id": "2c0bd8a0-b8b9-4091-a8a7-7f652263286f",
   "metadata": {
    "tags": []
   },
   "outputs": [
    {
     "data": {
      "text/plain": [
       "36"
      ]
     },
     "execution_count": 2,
     "metadata": {},
     "output_type": "execute_result"
    }
   ],
   "source": [
    "list_of_names = [\"Авеля\", \"Авимелеха\", \"Амалек\", \"Арам\", \"Аримафеи\", \"Ассирия\", \"Вавилон\", \"Галилея\", \"Гефсимания\", \"Голгофа\", \"Едом\", \"Египет\", \"Ефес\", \"Ерихон\", \"Иерихон\", \"Иерусалим\", \"Иордания\", \"Иордан\", \"Исава\", \"Иудея\", \"Иудейские пустыни\", \"Иудеи\", \"Капернаум\", \"Кесария\", \"Кирения\", \"Ливия\", \"Манассия\", \"Назарет\", \"Ниневия\", \"Осия\", \"Самария\", \"Сион\", \"Содом\", \"Тире\", \"Хоразин\", \"Эдем\"]\n",
    "len(list_of_names)"
   ]
  },
  {
   "cell_type": "code",
   "execution_count": null,
   "id": "892a6614-e047-4210-997d-a0cbd5bb884b",
   "metadata": {
    "tags": []
   },
   "outputs": [],
   "source": [
    "answer"
   ]
  },
  {
   "cell_type": "code",
   "execution_count": null,
   "id": "7a0f2168-248f-440e-aeed-0b970318f0ee",
   "metadata": {
    "tags": []
   },
   "outputs": [],
   "source": [
    "pattern = r'^[а-яА-Я]{1,} ([а-яА-Я]{1,}).*(?=шпалу)'\n",
    "f = re.findall(pattern,'Тетя Катя тащит шпалу')"
   ]
  },
  {
   "cell_type": "code",
   "execution_count": 2,
   "id": "a6e2589d-6dd0-4016-847f-bf2dfd05f4ce",
   "metadata": {
    "tags": []
   },
   "outputs": [
    {
     "ename": "NameError",
     "evalue": "name 'f' is not defined",
     "output_type": "error",
     "traceback": [
      "\u001b[1;31m---------------------------------------------------------------------------\u001b[0m",
      "\u001b[1;31mNameError\u001b[0m                                 Traceback (most recent call last)",
      "Input \u001b[1;32mIn [2]\u001b[0m, in \u001b[0;36m<cell line: 1>\u001b[1;34m()\u001b[0m\n\u001b[1;32m----> 1\u001b[0m \u001b[38;5;28mprint\u001b[39m(\u001b[43mf\u001b[49m)\n",
      "\u001b[1;31mNameError\u001b[0m: name 'f' is not defined"
     ]
    }
   ],
   "source": [
    "print(f)"
   ]
  },
  {
   "cell_type": "code",
   "execution_count": null,
   "id": "3322684e-f352-446b-a9e6-c1bde776c6c4",
   "metadata": {
    "tags": []
   },
   "outputs": [],
   "source": [
    "!pip install pymorphy2"
   ]
  },
  {
   "cell_type": "code",
   "execution_count": 4,
   "id": "3354260e-d895-4949-a459-fb7356ee3f6f",
   "metadata": {},
   "outputs": [
    {
     "name": "stdout",
     "output_type": "stream",
     "text": [
      "0 1 2 3 4 5 6 7 8 9 10 11 12 13 14 15 16 17 18 19 20 21 22 23 24 25 26 27 28 29 30 31 32 33 34 35 36 37 38 39 40 41 42 43 44 45 46 47 48 49 50 51 52 53 54 55 56 57 58 59 60 61 62 63 64 65 66 67 68 69 70 71 72 73 74 75 76 77 78 79 80 81 82 83 84 85 86 87 88 89 90 91 92 93 94 95 96 97 98 99 100 101 102 103 104 105 106 107 108 109 110 111 112 113 114 115 116 117 118 119 120 121 122 123 124 125 126 127 128 129 130 131 132 133 134 135 136 137 138 139 140 141 142 143 144 145 146 147 148 149 150 151 152 153 154 155 156 157 158 159 160 161 162 163 164 165 166 167 168 169 170 171 172 173 174 175 176 177 178 179 180 181 182 183 184 185 186 187 188 189 190 191 192 193 194 195 196 197 198 199 200 201 202 203 204 205 206 207 208 209 210 211 212 213 214 215 216 217 218 219 220 221 222 223 224 225 226 227 228 229 230 231 232 233 234 235 236 237 238 239 240 241 242 243 244 245 246 247 248 249 250 251 252 253 254 255 256 257 258 259 260 261 262 263 264 265 266 267 268 269 270 271 272 273 274 275 276 277 278 279 280 281 282 283 284 285 286 287 288 289 290 291 292 293 294 295 296 297 298 299 300 301 302 303 304 305 306 307 308 309 310 311 312 313 314 315 316 317 318 319 320 321 322 323 324 325 326 327 328 329 330 331 332 333 334 335 336 337 338 339 340 341 342 343 344 345 346 347 348 349 350 351 352 353 354 355 356 357 358 359 360 361 362 363 364 365 366 367 368 369 370 371 372 373 374 375 376 377 378 379 380 381 382 383 384 385 386 387 388 389 390 391 392 393 394 395 396 397 398 399 400 401 402 403 404 405 406 407 408 409 410 411 412 413 414 415 416 417 418 419 420 421 422 423 424 425 426 427 428 429 430 431 432 433 434 435 436 437 438 439 440 441 442 443 444 445 446 447 448 449 450 451 452 453 454 455 456 457 458 459 460 461 462 463 464 465 466 467 468 469 470 471 472 473 474 475 476 477 478 479 480 481 482 483 484 485 486 487 488 489 490 491 492 493 494 495 496 497 498 499 500 501 502 503 504 505 506 507 508 509 510 511 512 513 514 515 516 517 518 519 520 521 522 523 524 525 526 527 528 529 530 531 532 533 534 535 536 537 538 539 540 541 542 543 544 545 546 547 548 549 550 551 552 553 554 555 556 557 558 559 560 561 562 563 564 565 566 567 568 569 570 571 572 573 574 575 576 577 578 579 580 581 582 583 584 585 586 587 588 589 590 591 592 593 594 595 596 597 598 599 600 601 602 603 604 605 606 607 608 609 610 611 612 613 614 615 616 617 618 619 620 621 622 623 624 625 626 627 628 629 630 631 632 633 634 635 636 637 638 639 640 641 642 643 644 645 646 647 648 649 650 651 652 653 654 655 656 657 658 659 660 661 662 663 664 665 666 667 668 669 670 671 672 673 674 675 676 677 678 679 680 681 682 683 684 685 686 687 688 689 690 691 692 693 694 695 696 697 698 699 700 701 702 703 704 705 706 707 708 709 710 711 712 713 714 715 716 717 718 719 720 721 722 723 724 725 726 727 728 729 730 731 732 733 734 735 736 737 738 739 740 741 742 743 744 745 746 747 748 749 750 751 752 753 754 755 756 757 758 759 760 761 762 763 764 765 766 767 768 769 770 771 772 773 774 775 776 777 778 779 780 781 782 783 784 785 786 787 788 789 790 791 792 793 794 795 796 797 798 799 800 801 802 803 804 805 806 807 808 809 810 811 812 813 814 815 816 817 818 819 820 821 822 823 824 825 826 827 828 829 830 831 832 833 834 835 836 837 838 839 840 841 842 843 844 845 846 847 848 849 850 851 852 853 854 855 856 857 858 859 860 861 862 863 864 865 866 867 868 869 870 871 872 873 874 875 876 877 878 879 880 881 882 883 884 885 886 887 888 889 890 891 892 893 894 895 896 897 898 899 900 901 902 903 904 905 906 907 908 909 910 911 912 913 914 915 916 917 918 919 920 921 922 923 924 925 926 927 928 929 930 931 932 933 934 935 936 937 938 939 940 941 942 943 944 945 946 947 948 949 950 951 952 953 954 955 956 957 958 959 960 961 962 963 964 965 966 967 968 969 970 971 972 973 974 975 976 977 978 979 980 981 982 983 984 985 986 987 988 989 990 991 992 993 994 995 996 997 998 999\n"
     ]
    }
   ],
   "source": []
  },
  {
   "cell_type": "code",
   "execution_count": null,
   "id": "0a8b838b-2914-4e42-82b5-afae44b06263",
   "metadata": {},
   "outputs": [],
   "source": []
  },
  {
   "cell_type": "code",
   "execution_count": null,
   "id": "6e00f250-28f2-4db6-bedf-a8df76a0f4e5",
   "metadata": {},
   "outputs": [],
   "source": []
  }
 ],
 "metadata": {
  "kernelspec": {
   "display_name": "Python 3 (ipykernel)",
   "language": "python",
   "name": "python3"
  },
  "language_info": {
   "codemirror_mode": {
    "name": "ipython",
    "version": 3
   },
   "file_extension": ".py",
   "mimetype": "text/x-python",
   "name": "python",
   "nbconvert_exporter": "python",
   "pygments_lexer": "ipython3",
   "version": "3.8.7"
  }
 },
 "nbformat": 4,
 "nbformat_minor": 5
}
