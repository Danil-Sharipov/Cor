{
 "cells": [
  {
   "cell_type": "code",
   "execution_count": null,
   "id": "53822adf",
   "metadata": {
    "tags": []
   },
   "outputs": [],
   "source": [
    "import pandas as pd\n",
    "from sklearn import tree\n",
    "import shap\n",
    "from sklearn import preprocessing\n",
    "from sklearn import model_selection\n",
    "from sklearn import neighbors\n",
    "from tqdm import tqdm\n",
    "import optuna\n",
    "from sklearn import datasets\n",
    "import sklearn\n",
    "import warnings\n",
    "warnings.filterwarnings('ignore')\n",
    "optuna.logging.set_verbosity(optuna.logging.WARNING)"
   ]
  },
  {
   "cell_type": "code",
   "execution_count": null,
   "id": "3794371a",
   "metadata": {
    "tags": []
   },
   "outputs": [],
   "source": [
    "sklearn.metrics.SCORERS.keys()"
   ]
  },
  {
   "cell_type": "markdown",
   "id": "4a88b1da",
   "metadata": {},
   "source": [
    "# Задание 1"
   ]
  },
  {
   "cell_type": "code",
   "execution_count": null,
   "id": "3d945768",
   "metadata": {},
   "outputs": [],
   "source": [
    "df = pd.read_csv('titanic.csv')"
   ]
  },
  {
   "cell_type": "code",
   "execution_count": null,
   "id": "5e252609",
   "metadata": {
    "tags": []
   },
   "outputs": [],
   "source": [
    "df.sample(2)"
   ]
  },
  {
   "cell_type": "code",
   "execution_count": null,
   "id": "db196dad",
   "metadata": {
    "tags": []
   },
   "outputs": [],
   "source": [
    "df.info()"
   ]
  },
  {
   "cell_type": "code",
   "execution_count": null,
   "id": "11f61a47",
   "metadata": {
    "tags": []
   },
   "outputs": [],
   "source": [
    "df_new = df[['Pclass','Fare','Age','Sex','Survived']].dropna()\n",
    "# df_new = pd.get_dummies(df_new)"
   ]
  },
  {
   "cell_type": "code",
   "execution_count": null,
   "id": "907ccee9",
   "metadata": {
    "tags": []
   },
   "outputs": [],
   "source": [
    "X = df_new.drop('Survived',axis=1)\n",
    "y = df_new[['Survived']]"
   ]
  },
  {
   "cell_type": "code",
   "execution_count": null,
   "id": "48822708",
   "metadata": {
    "tags": []
   },
   "outputs": [],
   "source": [
    "X.Sex = preprocessing.LabelEncoder().fit_transform(X.Sex)"
   ]
  },
  {
   "cell_type": "code",
   "execution_count": null,
   "id": "2dd69b56",
   "metadata": {
    "tags": []
   },
   "outputs": [],
   "source": [
    "X.sample(2)"
   ]
  },
  {
   "cell_type": "code",
   "execution_count": null,
   "id": "7c74ea84",
   "metadata": {
    "tags": []
   },
   "outputs": [],
   "source": [
    "model = tree.DecisionTreeClassifier(random_state=100)\n",
    "model.fit(X,y)"
   ]
  },
  {
   "cell_type": "code",
   "execution_count": null,
   "id": "74b926b6",
   "metadata": {
    "tags": []
   },
   "outputs": [],
   "source": [
    "shap_test = shap.TreeExplainer(model).shap_values(X)\n",
    "shap.summary_plot(shap_test, X,\n",
    "                      max_display=25, auto_size_plot=True)"
   ]
  },
  {
   "cell_type": "code",
   "execution_count": null,
   "id": "5300a411",
   "metadata": {
    "tags": []
   },
   "outputs": [],
   "source": [
    "tree.plot_tree(model)\n",
    "print()"
   ]
  },
  {
   "cell_type": "markdown",
   "id": "9038a31e",
   "metadata": {},
   "source": [
    "# Задание 2"
   ]
  },
  {
   "cell_type": "code",
   "execution_count": null,
   "id": "26e25ba6",
   "metadata": {
    "tags": []
   },
   "outputs": [],
   "source": [
    "df = pd.read_csv('wine.csv',header=None)"
   ]
  },
  {
   "cell_type": "code",
   "execution_count": null,
   "id": "25056502",
   "metadata": {
    "tags": []
   },
   "outputs": [],
   "source": [
    "df.head(2)"
   ]
  },
  {
   "cell_type": "code",
   "execution_count": null,
   "id": "e44df495",
   "metadata": {
    "tags": []
   },
   "outputs": [],
   "source": [
    "y = df[[0]]\n",
    "X = df.drop(0,axis=1)"
   ]
  },
  {
   "cell_type": "code",
   "execution_count": null,
   "id": "98a84837",
   "metadata": {
    "tags": []
   },
   "outputs": [],
   "source": [
    "df.info()"
   ]
  },
  {
   "cell_type": "code",
   "execution_count": null,
   "id": "0e186fa2",
   "metadata": {
    "tags": []
   },
   "outputs": [],
   "source": [
    "kfold = model_selection.KFold(n_splits=10, shuffle=True, random_state=100).split(X)"
   ]
  },
  {
   "cell_type": "code",
   "execution_count": null,
   "id": "16a0d06f",
   "metadata": {
    "tags": []
   },
   "outputs": [],
   "source": [
    "%%time\n",
    "for train, test in tqdm(kfold):\n",
    "    X_train, X_test = X.iloc[train], X.iloc[test]\n",
    "    y_train, y_test = y.iloc[train], y.iloc[test]\n",
    "    model = neighbors.KNeighborsClassifier()\n",
    "    model.fit(X_train, y_train)\n",
    "    print(model.score(X_test, y_test))"
   ]
  },
  {
   "cell_type": "code",
   "execution_count": null,
   "id": "4b02cbcc",
   "metadata": {
    "tags": []
   },
   "outputs": [],
   "source": [
    "model_selection.cross_val_score(neighbors.KNeighborsClassifier(),X,y)"
   ]
  },
  {
   "cell_type": "code",
   "execution_count": null,
   "id": "dbc1542a",
   "metadata": {
    "tags": []
   },
   "outputs": [],
   "source": [
    "# def obj(self, trial):\n",
    "#         model = cb.CatBoostClassifier(\n",
    "#         iterations=trial.suggest_int(\"iterations\", 1, 1000),\n",
    "#         learning_rate=trial.suggest_float(\"learning_rate\", 1e-3, 1e-1, log=True),\n",
    "#         depth=trial.suggest_int(\"depth\", 4, 10),\n",
    "#         l2_leaf_reg=trial.suggest_float(\"l2_leaf_reg\", 1e-8, 100.0, log=True),\n",
    "#         bootstrap_type=trial.suggest_categorical(\"bootstrap_type\", [\"Bayesian\"]),\n",
    "#         random_strength=trial.suggest_float(\"random_strength\", 1e-8, 10.0, log=True),\n",
    "#         bagging_temperature=trial.suggest_float(\"bagging_temperature\", 0.0, 10.0),\n",
    "#         od_type=trial.suggest_categorical(\"od_type\", [\"IncToDec\", \"Iter\"]),\n",
    "#         od_wait=trial.suggest_int(\"od_wait\", 10, 50),\n",
    "#         verbose=False\n",
    "#     )\n",
    "#         model.fit(self.X_train, self.y_train)\n",
    "#         self.catboost_model = model\n",
    "#         y_pred = model.predict(self.X_test)\n",
    "#         return accuracy_score(self.y_test, y_pred)\n",
    "    \n",
    "#     def test(self):\n",
    "#         study = optuna.create_study(study_name=\"catboost\", direction=\"maximize\")\n",
    "#         study.optimize(self.obj, n_trials=5, n_jobs=-1, callbacks=[self.callback])"
   ]
  },
  {
   "cell_type": "code",
   "execution_count": null,
   "id": "d0102a0c",
   "metadata": {
    "tags": []
   },
   "outputs": [],
   "source": [
    "def obj(trial):\n",
    "    model = neighbors.KNeighborsClassifier(n_neighbors=trial.suggest_int(\"n_neighbors\",1,100))\n",
    "    return min(model_selection.cross_val_score(model,X,y,scoring='accuracy',n_jobs=-1))\n",
    "study = optuna.create_study(direction='maximize')\n",
    "study.optimize(obj,n_trials=100,n_jobs=-1)"
   ]
  },
  {
   "cell_type": "code",
   "execution_count": null,
   "id": "61c64103",
   "metadata": {
    "tags": []
   },
   "outputs": [],
   "source": [
    "print(study.best_params)"
   ]
  },
  {
   "cell_type": "code",
   "execution_count": null,
   "id": "56781df2",
   "metadata": {
    "tags": []
   },
   "outputs": [],
   "source": [
    "print(study.best_value)"
   ]
  },
  {
   "cell_type": "code",
   "execution_count": null,
   "id": "b3136170",
   "metadata": {
    "tags": []
   },
   "outputs": [],
   "source": [
    "X = preprocessing.scale(X)"
   ]
  },
  {
   "cell_type": "code",
   "execution_count": null,
   "id": "82723bb5",
   "metadata": {
    "tags": []
   },
   "outputs": [],
   "source": [
    "def obj(trial):\n",
    "    model = neighbors.KNeighborsClassifier(n_neighbors=trial.suggest_int(\"n_neighbors\",1,100))\n",
    "    return min(model_selection.cross_val_score(model,X,y,scoring='accuracy',n_jobs=-1))\n",
    "study = optuna.create_study(direction='maximize')\n",
    "study.optimize(obj,n_trials=100,n_jobs=-1)"
   ]
  },
  {
   "cell_type": "code",
   "execution_count": null,
   "id": "ccd2c60b",
   "metadata": {
    "tags": []
   },
   "outputs": [],
   "source": [
    "print(study.best_params)"
   ]
  },
  {
   "cell_type": "code",
   "execution_count": null,
   "id": "02f15e97",
   "metadata": {
    "tags": []
   },
   "outputs": [],
   "source": [
    "print(study.best_value)"
   ]
  },
  {
   "cell_type": "markdown",
   "id": "8b5f735f",
   "metadata": {},
   "source": [
    "# Задание 3"
   ]
  },
  {
   "cell_type": "code",
   "execution_count": null,
   "id": "ff368d1a",
   "metadata": {
    "tags": []
   },
   "outputs": [],
   "source": [
    "X, y = datasets.load_boston(return_X_y=True)"
   ]
  },
  {
   "cell_type": "code",
   "execution_count": null,
   "id": "9b4317af",
   "metadata": {
    "tags": []
   },
   "outputs": [],
   "source": [
    "X.shape"
   ]
  },
  {
   "cell_type": "code",
   "execution_count": null,
   "id": "fe0ae4eb",
   "metadata": {
    "tags": []
   },
   "outputs": [],
   "source": [
    "y.shape"
   ]
  },
  {
   "cell_type": "code",
   "execution_count": null,
   "id": "bf968a83",
   "metadata": {
    "tags": []
   },
   "outputs": [],
   "source": [
    "X = preprocessing.scale(X)"
   ]
  },
  {
   "cell_type": "code",
   "execution_count": null,
   "id": "143959e6",
   "metadata": {
    "tags": []
   },
   "outputs": [],
   "source": [
    "def obj(trial):\n",
    "    model = neighbors.KNeighborsRegressor(n_neighbors=6, weights='distance', p=trial.suggest_int('p',1,20),n_jobs=-1)\n",
    "    return max(map(lambda x: -1*x, model_selection.cross_val_score(model,X,y,scoring='neg_mean_squared_error',n_jobs=-1,cv=10)))\n",
    "study = optuna.create_study(direction='minimize')\n",
    "study.optimize(obj,n_trials=100,n_jobs=-1)"
   ]
  },
  {
   "cell_type": "code",
   "execution_count": null,
   "id": "87e6a779",
   "metadata": {
    "tags": []
   },
   "outputs": [],
   "source": [
    "study.best_params"
   ]
  },
  {
   "cell_type": "code",
   "execution_count": null,
   "id": "5ee74824",
   "metadata": {
    "tags": []
   },
   "outputs": [],
   "source": [
    "study.best_value"
   ]
  },
  {
   "cell_type": "code",
   "execution_count": null,
   "id": "cb5234da",
   "metadata": {},
   "outputs": [],
   "source": [
    "from s"
   ]
  },
  {
   "cell_type": "code",
   "execution_count": null,
   "id": "c6c0de62",
   "metadata": {},
   "outputs": [],
   "source": []
  }
 ],
 "metadata": {
  "kernelspec": {
   "display_name": "Python 3 (ipykernel)",
   "language": "python",
   "name": "python3"
  },
  "language_info": {
   "codemirror_mode": {
    "name": "ipython",
    "version": 3
   },
   "file_extension": ".py",
   "mimetype": "text/x-python",
   "name": "python",
   "nbconvert_exporter": "python",
   "pygments_lexer": "ipython3",
   "version": "3.8.7"
  }
 },
 "nbformat": 4,
 "nbformat_minor": 5
}
