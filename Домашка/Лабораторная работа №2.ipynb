{
 "cells": [
  {
   "cell_type": "code",
   "execution_count": 2,
   "id": "4c742105-b97c-4daf-af6d-79c627d73048",
   "metadata": {
    "tags": []
   },
   "outputs": [],
   "source": [
    "from sklearn import datasets\n",
    "from sklearn.preprocessing import scale\n",
    "from sklearn.cluster import KMeans\n",
    "from sklearn.metrics import adjusted_mutual_info_score as AMI, adjusted_rand_score as ARI\n",
    "from sklearn.decomposition import PCA\n",
    "import warnings\n",
    "import plotly.express as px\n",
    "from ipywidgets import interact\n",
    "warnings.filterwarnings(\"ignore\")"
   ]
  },
  {
   "cell_type": "code",
   "execution_count": 3,
   "id": "e75e4f33-cc91-4d44-868d-a6876d25b5d6",
   "metadata": {
    "tags": []
   },
   "outputs": [],
   "source": [
    "iris = datasets.load_digits()\n",
    "x = scale(iris.data, axis=0)\n",
    "y = iris.target"
   ]
  },
  {
   "cell_type": "code",
   "execution_count": 4,
   "id": "21e191db-36c3-40bb-8d95-9fdc940a4969",
   "metadata": {
    "tags": []
   },
   "outputs": [
    {
     "data": {
      "text/plain": [
       "(1797, 64)"
      ]
     },
     "execution_count": 4,
     "metadata": {},
     "output_type": "execute_result"
    }
   ],
   "source": [
    "x.shape"
   ]
  },
  {
   "cell_type": "code",
   "execution_count": 5,
   "id": "cee939a3-4fd1-4f3b-8e82-4f82fca430be",
   "metadata": {
    "tags": []
   },
   "outputs": [
    {
     "data": {
      "text/plain": [
       "10"
      ]
     },
     "execution_count": 5,
     "metadata": {},
     "output_type": "execute_result"
    }
   ],
   "source": [
    "ln = len(set(y))\n",
    "ln"
   ]
  },
  {
   "cell_type": "code",
   "execution_count": 6,
   "id": "1035ab59-0366-468a-bc7d-ea3936be7ab2",
   "metadata": {
    "tags": []
   },
   "outputs": [],
   "source": [
    "class MyKMeans(KMeans):\n",
    "    \n",
    "    def __init__(self, init, n_clusters):\n",
    "        super().__init__(init=init, n_clusters=n_clusters, n_init=10)\n",
    "    \n",
    "    def check(self, x, y):\n",
    "        result = self.fit(x).labels_\n",
    "        print(f'ARI: {ARI(y, result)}, AMI: {AMI(y, result)}')\n",
    "    \n",
    "    def check_plot(self, x, y):\n",
    "        %time self.check(x,y)\n",
    "        result = self.fit(x)\n",
    "        x_new = list(zip(*tuple(x)))\n",
    "        lab = tuple(map(lambda x: f'Class {x}', result.labels_))\n",
    "        \n",
    "        @interact(fir_coord=(0, 63), second_coord=(0,63))\n",
    "        def plot(fir_coord=0, second_coord=1):\n",
    "            if fir_coord == second_coord:\n",
    "                print('Координаты должны быть различны')\n",
    "                return\n",
    "            \n",
    "            # тут надо исправить\n",
    "            t = px.scatter(x=x_new[fir_coord],y=x_new[second_coord],color=lab)\n",
    "            t.show()"
   ]
  },
  {
   "cell_type": "code",
   "execution_count": 8,
   "id": "d530cf01-cb20-480c-8f8e-2e606c00d347",
   "metadata": {
    "tags": []
   },
   "outputs": [
    {
     "name": "stdout",
     "output_type": "stream",
     "text": [
      "ARI: 0.5625724008412156, AMI: 0.6941055490338277\n",
      "CPU times: total: 1.42 s\n",
      "Wall time: 195 ms\n"
     ]
    },
    {
     "data": {
      "application/vnd.jupyter.widget-view+json": {
       "model_id": "fdc27889f6d74fb3b4965667c3479648",
       "version_major": 2,
       "version_minor": 0
      },
      "text/plain": [
       "interactive(children=(IntSlider(value=0, description='fir_coord', max=63), IntSlider(value=1, description='sec…"
      ]
     },
     "metadata": {},
     "output_type": "display_data"
    }
   ],
   "source": [
    "km = MyKMeans(init='k-means++', n_clusters=ln)\n",
    "km.check_plot(x, y)"
   ]
  },
  {
   "cell_type": "code",
   "execution_count": 8,
   "id": "72d7ea3b-6814-4918-9812-7f9ea1e8aac1",
   "metadata": {
    "tags": []
   },
   "outputs": [
    {
     "name": "stdout",
     "output_type": "stream",
     "text": [
      "ARI: 0.4645301922808515, AMI: 0.6197752489830856\n",
      "CPU times: total: 1.66 s\n",
      "Wall time: 512 ms\n"
     ]
    },
    {
     "data": {
      "application/vnd.jupyter.widget-view+json": {
       "model_id": "704b992789854964a2294424e09b5f08",
       "version_major": 2,
       "version_minor": 0
      },
      "text/plain": [
       "interactive(children=(IntSlider(value=0, description='fir_coord', max=63), IntSlider(value=1, description='sec…"
      ]
     },
     "metadata": {},
     "output_type": "display_data"
    }
   ],
   "source": [
    "km = MyKMeans(init='random', n_clusters=ln)\n",
    "km.check_plot(x, y)"
   ]
  },
  {
   "cell_type": "code",
   "execution_count": 11,
   "id": "fb735e9a-0b8f-4f64-a976-61195eec8e65",
   "metadata": {
    "tags": []
   },
   "outputs": [],
   "source": [
    "pca = PCA(n_components=ln).fit(x)"
   ]
  },
  {
   "cell_type": "code",
   "execution_count": 12,
   "id": "d9269d9c-bce9-4ff4-9e55-37200c0b96de",
   "metadata": {
    "tags": []
   },
   "outputs": [
    {
     "name": "stdout",
     "output_type": "stream",
     "text": [
      "ARI: 0.5570729572305355, AMI: 0.6774313910031146\n",
      "CPU times: total: 312 ms\n",
      "Wall time: 43.9 ms\n"
     ]
    },
    {
     "data": {
      "application/vnd.jupyter.widget-view+json": {
       "model_id": "27cc18ef9b99484f8872f31165c6d146",
       "version_major": 2,
       "version_minor": 0
      },
      "text/plain": [
       "interactive(children=(IntSlider(value=0, description='fir_coord', max=63), IntSlider(value=1, description='sec…"
      ]
     },
     "metadata": {},
     "output_type": "display_data"
    }
   ],
   "source": [
    "km = MyKMeans(init=pca.components_, n_clusters=ln)\n",
    "km.check_plot(x, y)"
   ]
  },
  {
   "cell_type": "code",
   "execution_count": null,
   "id": "a06fe668-eb74-4eef-82be-431d25f9c3e6",
   "metadata": {
    "tags": []
   },
   "outputs": [],
   "source": [
    "$dest_dir=\"C:\\hadoop\"\n",
    "$url = \"https://dlcdn.apache.org/hadoop/common/hadoop-3.3.1/hadoop-3.3.1.tar.gz\"\n",
    "$client = new-object System.Net.WebClient\n",
    "$client.DownloadFile($url,$dest_dir+\"\\hadoop-3.3.1.tar.gz\")"
   ]
  },
  {
   "cell_type": "code",
   "execution_count": null,
   "id": "83bcb618-120f-4d8a-86b4-ee408004d5e6",
   "metadata": {},
   "outputs": [],
   "source": []
  },
  {
   "cell_type": "code",
   "execution_count": null,
   "id": "59b9791d-cb60-4f90-b146-3c6f2849c2fc",
   "metadata": {},
   "outputs": [],
   "source": []
  }
 ],
 "metadata": {
  "kernelspec": {
   "display_name": "Python 3 (ipykernel)",
   "language": "python",
   "name": "python3"
  },
  "language_info": {
   "codemirror_mode": {
    "name": "ipython",
    "version": 3
   },
   "file_extension": ".py",
   "mimetype": "text/x-python",
   "name": "python",
   "nbconvert_exporter": "python",
   "pygments_lexer": "ipython3",
   "version": "3.8.7"
  }
 },
 "nbformat": 4,
 "nbformat_minor": 5
}
