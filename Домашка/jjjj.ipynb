{
 "cells": [
  {
   "cell_type": "code",
   "execution_count": 2,
   "id": "19f4abc9-5a2d-46a7-9fd1-824323ce9e9a",
   "metadata": {
    "tags": []
   },
   "outputs": [],
   "source": [
    "import random\n",
    "import tqdm"
   ]
  },
  {
   "cell_type": "code",
   "execution_count": 3,
   "id": "4e99a12d-6412-4052-895f-87fd90ff6db3",
   "metadata": {
    "tags": []
   },
   "outputs": [],
   "source": [
    "diction = {}"
   ]
  },
  {
   "cell_type": "code",
   "execution_count": 4,
   "id": "927b8898-cc17-4184-bd82-6815ac142d9b",
   "metadata": {
    "tags": []
   },
   "outputs": [],
   "source": [
    "# 1 1/10^14"
   ]
  },
  {
   "cell_type": "code",
   "execution_count": 1,
   "id": "02705f63-82d4-4a30-be09-1ee08c169202",
   "metadata": {
    "tags": []
   },
   "outputs": [
    {
     "ename": "NameError",
     "evalue": "name 'tqdm' is not defined",
     "output_type": "error",
     "traceback": [
      "\u001b[1;31m---------------------------------------------------------------------------\u001b[0m",
      "\u001b[1;31mNameError\u001b[0m                                 Traceback (most recent call last)",
      "Input \u001b[1;32mIn [1]\u001b[0m, in \u001b[0;36m<cell line: 32>\u001b[1;34m()\u001b[0m\n\u001b[0;32m     29\u001b[0m num_simulations \u001b[38;5;241m=\u001b[39m \u001b[38;5;241m100\u001b[39m  \u001b[38;5;66;03m# Количество симуляций метода Монте-Карло\u001b[39;00m\n\u001b[0;32m     31\u001b[0m \u001b[38;5;66;03m# Вызов функции для вычисления среднего значения наибольшего количества очков\u001b[39;00m\n\u001b[1;32m---> 32\u001b[0m average_max_score \u001b[38;5;241m=\u001b[39m \u001b[43msimulate_monte_carlo\u001b[49m\u001b[43m(\u001b[49m\u001b[43mnum_coin_tosses\u001b[49m\u001b[43m,\u001b[49m\u001b[43m \u001b[49m\u001b[43mnum_simulations\u001b[49m\u001b[43m)\u001b[49m\n\u001b[0;32m     33\u001b[0m \u001b[38;5;28mprint\u001b[39m(\u001b[38;5;124mf\u001b[39m\u001b[38;5;124m\"\u001b[39m\u001b[38;5;124mСреднее значение наибольшего количества очков: \u001b[39m\u001b[38;5;132;01m{\u001b[39;00maverage_max_score\u001b[38;5;132;01m}\u001b[39;00m\u001b[38;5;124m\"\u001b[39m)\n",
      "Input \u001b[1;32mIn [1]\u001b[0m, in \u001b[0;36msimulate_monte_carlo\u001b[1;34m(n, num_simulations)\u001b[0m\n\u001b[0;32m      7\u001b[0m current_score \u001b[38;5;241m=\u001b[39m \u001b[38;5;241m0\u001b[39m  \u001b[38;5;66;03m# Текущее количество очков\u001b[39;00m\n\u001b[0;32m      8\u001b[0m max_score \u001b[38;5;241m=\u001b[39m \u001b[38;5;241m0\u001b[39m  \u001b[38;5;66;03m# Наибольшее количество очков в текущей симуляции\u001b[39;00m\n\u001b[1;32m---> 10\u001b[0m \u001b[38;5;28;01mfor\u001b[39;00m _ \u001b[38;5;129;01min\u001b[39;00m \u001b[43mtqdm\u001b[49m\u001b[38;5;241m.\u001b[39mtqdm(\u001b[38;5;28mrange\u001b[39m(n)):\n\u001b[0;32m     11\u001b[0m     \u001b[38;5;66;03m# Генерация решки (1) или орла (-1)\u001b[39;00m\n\u001b[0;32m     12\u001b[0m     coin_toss \u001b[38;5;241m=\u001b[39m \u001b[38;5;241m1\u001b[39m \u001b[38;5;28;01mif\u001b[39;00m random\u001b[38;5;241m.\u001b[39mrandom() \u001b[38;5;241m<\u001b[39m \u001b[38;5;241m0.5\u001b[39m \u001b[38;5;28;01melse\u001b[39;00m \u001b[38;5;241m-\u001b[39m\u001b[38;5;241m1\u001b[39m\n\u001b[0;32m     14\u001b[0m     \u001b[38;5;66;03m# Обновление текущего количества очков\u001b[39;00m\n",
      "\u001b[1;31mNameError\u001b[0m: name 'tqdm' is not defined"
     ]
    }
   ],
   "source": [
    "import random\n",
    "\n",
    "def simulate_monte_carlo(n, num_simulations):\n",
    "    max_score_sum = 0  # Сумма наибольшего количества очков в каждой симуляции\n",
    "\n",
    "    for _ in (range(num_simulations)):\n",
    "        current_score = 0  # Текущее количество очков\n",
    "        max_score = 0  # Наибольшее количество очков в текущей симуляции\n",
    "\n",
    "        for _ in tqdm.tqdm(range(n)):\n",
    "            # Генерация решки (1) или орла (-1)\n",
    "            coin_toss = 1 if random.random() < 0.5 else -1\n",
    "\n",
    "            # Обновление текущего количества очков\n",
    "            current_score = max(0, current_score + coin_toss)\n",
    "\n",
    "            # Обновление наибольшего количества очков\n",
    "            max_score = max(max_score, current_score)\n",
    "\n",
    "        # Обновление суммы наибольшего количества очков\n",
    "        max_score_sum += max_score\n",
    "\n",
    "    # Среднее значение наибольшего количества очков\n",
    "    average_max_score = max_score_sum / num_simulations\n",
    "    return average_max_score\n",
    "\n",
    "# Параметры симуляции\n",
    "num_coin_tosses = int(1e14)  # Количество бросков монеты\n",
    "num_simulations = 100  # Количество симуляций метода Монте-Карло\n",
    "\n",
    "# Вызов функции для вычисления среднего значения наибольшего количества очков\n",
    "average_max_score = simulate_monte_carlo(num_coin_tosses, num_simulations)\n",
    "print(f\"Среднее значение наибольшего количества очков: {average_max_score}\")"
   ]
  },
  {
   "cell_type": "code",
   "execution_count": null,
   "id": "2cb0d4fd-5d50-4e05-8d43-d35e4dee6ff8",
   "metadata": {},
   "outputs": [],
   "source": []
  }
 ],
 "metadata": {
  "kernelspec": {
   "display_name": "Python 3 (ipykernel)",
   "language": "python",
   "name": "python3"
  },
  "language_info": {
   "codemirror_mode": {
    "name": "ipython",
    "version": 3
   },
   "file_extension": ".py",
   "mimetype": "text/x-python",
   "name": "python",
   "nbconvert_exporter": "python",
   "pygments_lexer": "ipython3",
   "version": "3.8.7"
  }
 },
 "nbformat": 4,
 "nbformat_minor": 5
}
