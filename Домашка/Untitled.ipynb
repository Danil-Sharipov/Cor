{
 "cells": [
  {
   "cell_type": "code",
   "execution_count": null,
   "id": "1044dfb3-586a-413e-8e8b-588e60e993b0",
   "metadata": {
    "tags": []
   },
   "outputs": [],
   "source": [
    "%%time\n",
    "class Subarray:\n",
    "    __slots__ = ('temp', 'start', 'end', 'dist')\n",
    "    \n",
    "    def __init__(self, data):  # Тут data При инициализации это массив или любой итерируемые объект\n",
    "        self.temp = map(lambda x: -1 if x&1 else 1, data) #O(n)\n",
    "        self.start = 0\n",
    "        self.end = 0\n",
    "        \n",
    "    def kadane(self):  #O(n) Алгооритм Kadane\n",
    "        current = 0\n",
    "        final = 0\n",
    "        mp = -1\n",
    "        for indx, i in enumerate(self.temp):\n",
    "            current += i\n",
    "            if current <= 0:\n",
    "                mp = indx\n",
    "                current = 0\n",
    "                continue\n",
    "            if final < current:\n",
    "                final = current\n",
    "                self.end = indx\n",
    "                self.start = mp+1\n",
    "            final = max(final, current)\n",
    "        return final\n",
    "\n",
    "    def __str__(self):\n",
    "        dist = self.kadane()\n",
    "        return str((self.start, self.end, dist))\n",
    "    \n",
    "    \n",
    "with open(\"data/pi.txt\", encoding='utf-8') as f:\n",
    "    data = f.read()\n",
    "data = map(int, data)\n",
    "sb = Subarray(data)\n",
    "print(sb)"
   ]
  },
  {
   "cell_type": "code",
   "execution_count": null,
   "id": "46589033-6336-4d3d-bd44-3e4091cab30d",
   "metadata": {
    "tags": []
   },
   "outputs": [],
   "source": [
    "%%time\n",
    "with open(\"data/pi.txt\", encoding='utf-8') as f:\n",
    "    data = f.read()\n",
    "data = map(lambda x: -1 if int(x) & 1 else 1, data)\n",
    "start = 0\n",
    "end = 0\n",
    "mn = 0\n",
    "current = 0 \n",
    "final = 0\n",
    "for indx, i in enumerate(data):\n",
    "    current += i \n",
    "    if current < 0:\n",
    "        mp = indx\n",
    "        current = 0\n",
    "        continue\n",
    "    if final < current:\n",
    "        start = mp + 1\n",
    "        end = indx\n",
    "        final = current\n",
    "print(start, end, final)\n",
    "    "
   ]
  },
  {
   "cell_type": "code",
   "execution_count": null,
   "id": "8a324635-7f9c-4967-9b7d-d611322ac04d",
   "metadata": {},
   "outputs": [],
   "source": [
    "s = {'tt', 'qq'}\n",
    "print(s)"
   ]
  },
  {
   "cell_type": "code",
   "execution_count": null,
   "id": "7d4a96ab-7bcc-4a9a-907c-695899dc1b52",
   "metadata": {
    "tags": []
   },
   "outputs": [],
   "source": [
    "t = ['cat', 'cats', 'apple','ad']\n",
    "print(sorted(t))"
   ]
  },
  {
   "cell_type": "code",
   "execution_count": null,
   "id": "e6a47d32-3bb6-49f0-a726-a7093d512de7",
   "metadata": {
    "tags": []
   },
   "outputs": [],
   "source": [
    "'apple'>'cats'"
   ]
  },
  {
   "cell_type": "code",
   "execution_count": null,
   "id": "d7f270e7-78b6-4a3f-8b61-e4774cb928ef",
   "metadata": {
    "tags": []
   },
   "outputs": [],
   "source": [
    "diction = {(2,4):3}"
   ]
  },
  {
   "cell_type": "code",
   "execution_count": null,
   "id": "ba888279-8416-4962-8b7d-2b2dca4a273d",
   "metadata": {
    "tags": []
   },
   "outputs": [],
   "source": [
    "print(diction)"
   ]
  },
  {
   "cell_type": "code",
   "execution_count": null,
   "id": "accb4c87-f14c-40d4-b22d-f01608aa02ca",
   "metadata": {},
   "outputs": [],
   "source": [
    "print(reversed(enumerate([1,2,3])))"
   ]
  },
  {
   "cell_type": "code",
   "execution_count": null,
   "id": "58eafd9e-beac-46a9-ba6f-6e014d99b390",
   "metadata": {
    "tags": []
   },
   "outputs": [],
   "source": [
    "import random\n",
    "class Subarray:\n",
    "    __slots__ = ('temp', 'start', 'end', 'dist')\n",
    "    \n",
    "    def __init__(self):  # Тут data При инициализации это массив или любой итерируемые объект\n",
    "        #self.temp = map(lambda x: -1 if x&1 else 1, data) #O(n)\n",
    "        self.start = 0\n",
    "        self.end = 0\n",
    "        \n",
    "    def kadane(self):  #O(n) Алгооритм Kadane\n",
    "        current = 0\n",
    "        final = 0\n",
    "        mp = -1\n",
    "        for indx in range(10000000):\n",
    "            temp = random.randint(0,9)\n",
    "            current += -1 if temp&1 else 1\n",
    "            if current <= 0:\n",
    "                mp = indx\n",
    "                current = 0\n",
    "            if final < current:\n",
    "                final = current\n",
    "                self.end = indx\n",
    "                self.start = mp+1\n",
    "            final = max(final, current)\n",
    "        return final\n",
    " \n",
    "    def __str__(self):\n",
    "        dist = self.kadane()\n",
    "        return str((self.end - self.start, dist))\n",
    "    \n",
    "    \n",
    "sb = Subarray()\n",
    "print(sb)\n"
   ]
  },
  {
   "cell_type": "code",
   "execution_count": null,
   "id": "00d9d2fc-5fc0-4a26-8ff0-28544a472e92",
   "metadata": {
    "tags": []
   },
   "outputs": [],
   "source": [
    "\"\"\"import os\n",
    "ssh_hosts = [{'url':'yand.dyndns.org','port': 1922, 'user': 'student','password':'Pa$$w0rd'},\n",
    "            {'url':'95.165.133.145','port': 1922, 'user': 'student','password':'Pa$$w0rd'}\n",
    "            ]\n",
    "for i in ssh_hosts:\n",
    "\"\"\"\n",
    "import paramiko \n",
    "\n",
    "host = '192.168.0.8'\n",
    "user = 'login'\n",
    "secret = 'password'\n",
    "port = 22\n",
    "\n",
    "client = paramiko.SSHClient()\n",
    "client.set_missing_host_key_policy(paramiko.AutoAddPolicy())\n",
    "client.connect(hostname=host, username=user, password=secret, port=port)\n",
    "stdin, stdout, stderr = client.exec_command('ls -l')\n",
    "data = stdout.read() + stderr.read()\n",
    "client.close()\n"
   ]
  },
  {
   "cell_type": "code",
   "execution_count": null,
   "id": "98932dec-1f6c-4486-8c3d-18f505eac56d",
   "metadata": {
    "tags": []
   },
   "outputs": [],
   "source": [
    "import paramiko\n",
    "\n",
    "ssh_hosts = [{'url':'yand.dyndns.org','port': 1922, 'user': 'student','password':'Pa$$w0rd'},\n",
    "            {'url':'95.165.133.145','port': 1922, 'user': 'student','password':'Pa$$w0rd'}\n",
    "            ]\n",
    "client = paramiko.SSHClient()\n",
    "client.set_missing_host_key_policy(paramiko.AutoAddPolicy())\n",
    "for i in ssh_hosts:\n",
    "    host,port,user,secret = i.values()\n",
    "    client.connect(hostname=host, username=user, password=secret, port=port)\n",
    "    stdin, stdout, stderr = client.exec_command('test -e /etc/python3 && echo \"y\"')\n",
    "    data = stdout.read().decode(\"utf-8\")[:-1]\n",
    "    client.close()\n",
    "    if data == \"y\":\n",
    "        print(f'На хосте {host} файл /etc/python3 есть')\n",
    "        continue\n",
    "    print(f'На хосте {host} файла /etc/python3 нет')\n",
    "\n",
    "#На хосте yand.dyndns.org файл /etc/python3 есть\n",
    "#На хосте 95.165.133.145 файл /etc/python3 есть\n"
   ]
  },
  {
   "cell_type": "code",
   "execution_count": null,
   "id": "be9e5284-2184-4ea0-831f-1c6ce808c3e7",
   "metadata": {
    "tags": []
   },
   "outputs": [],
   "source": [
    "#b'bash: line 0: cd: /etc/python: No such file or directory\\n'\n"
   ]
  },
  {
   "cell_type": "code",
   "execution_count": null,
   "id": "3d47e1e0-484f-4f56-9cb4-9208dd6d0975",
   "metadata": {
    "tags": []
   },
   "outputs": [],
   "source": [
    "import math as m"
   ]
  },
  {
   "cell_type": "code",
   "execution_count": null,
   "id": "4eb91d19-2b07-4e49-a351-b87fd45033a1",
   "metadata": {
    "tags": []
   },
   "outputs": [],
   "source": [
    "E_sh_sob=(1/1)*m.log2((1/1)) - 0\n",
    "E_sh_kot=-(4/9)*m.log2((4/9)) - (5/9)*m.log2((5/9))\n",
    "E_gav_sob=0 - (5/5)*m.log2((5/5))\n",
    "E_gav_kot=-(4/5)*m.log2((4/5)) - (1/5)*m.log2((1/5))\n",
    "E_laz_sob=0 - (6/6)*m.log2((6/6))\n",
    "E_laz_kot=-(4/4)*m.log2((4/4)) - 0"
   ]
  },
  {
   "cell_type": "code",
   "execution_count": null,
   "id": "27ed97b8-b7b4-4946-870d-2c30be1f1e96",
   "metadata": {},
   "outputs": [],
   "source": [
    "print(local())"
   ]
  }
 ],
 "metadata": {
  "kernelspec": {
   "display_name": "Python 3 (ipykernel)",
   "language": "python",
   "name": "python3"
  },
  "language_info": {
   "codemirror_mode": {
    "name": "ipython",
    "version": 3
   },
   "file_extension": ".py",
   "mimetype": "text/x-python",
   "name": "python",
   "nbconvert_exporter": "python",
   "pygments_lexer": "ipython3",
   "version": "3.8.7"
  }
 },
 "nbformat": 4,
 "nbformat_minor": 5
}
