{
 "cells": [
  {
   "cell_type": "code",
   "execution_count": 12,
   "id": "e0d675ab-b121-4532-81c3-1d28543abdb1",
   "metadata": {},
   "outputs": [
    {
     "name": "stdout",
     "output_type": "stream",
     "text": [
      "9 ('Prerpetuj', 'Prerpetui')\n",
      "CPU times: total: 0 ns\n",
      "Wall time: 0 ns\n"
     ]
    }
   ],
   "source": [
    "from functools import reduce\n",
    "def main():\n",
    "    people = ['Yuri', 'Prerpetuj','Prerpetui', 'Masha']\n",
    "    max_len = reduce(lambda x, y: y if x < y else x, map(len, people))\n",
    "    print(max_len, tuple(filter(lambda x: len(x) == max_len, people)))\n",
    "%time main()"
   ]
  },
  {
   "cell_type": "code",
   "execution_count": null,
   "id": "c37f0b6e-f223-4884-b5f4-3f089ac72ab6",
   "metadata": {},
   "outputs": [],
   "source": []
  }
 ],
 "metadata": {
  "kernelspec": {
   "display_name": "Python 3 (ipykernel)",
   "language": "python",
   "name": "python3"
  },
  "language_info": {
   "codemirror_mode": {
    "name": "ipython",
    "version": 3
   },
   "file_extension": ".py",
   "mimetype": "text/x-python",
   "name": "python",
   "nbconvert_exporter": "python",
   "pygments_lexer": "ipython3",
   "version": "3.8.7"
  }
 },
 "nbformat": 4,
 "nbformat_minor": 5
}
