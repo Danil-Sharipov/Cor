{
 "cells": [
  {
   "cell_type": "code",
   "execution_count": null,
   "id": "a9e6d815-0617-41b0-a2e5-e4c2b0d72e0b",
   "metadata": {
    "tags": []
   },
   "outputs": [],
   "source": [
    "import pandas as pd\n",
    "import numpy as np\n",
    "import plotly.graph_objects as go\n",
    "import plotly.express as px\n",
    "import re\n",
    "from functools import reduce"
   ]
  },
  {
   "cell_type": "code",
   "execution_count": null,
   "id": "f51a598c-7ece-4dc3-989d-9e5ffb0f6cae",
   "metadata": {
    "tags": []
   },
   "outputs": [],
   "source": [
    "df = pd.read_csv('titanic.csv')"
   ]
  },
  {
   "cell_type": "code",
   "execution_count": null,
   "id": "85fa9bfc-be9a-46a6-956d-2c9ec0b95902",
   "metadata": {
    "tags": []
   },
   "outputs": [],
   "source": [
    "df.sample(5)"
   ]
  },
  {
   "cell_type": "code",
   "execution_count": null,
   "id": "216ebfd4-9ee8-4f76-bc56-deae06345d9b",
   "metadata": {
    "tags": []
   },
   "outputs": [],
   "source": [
    "df.info()"
   ]
  },
  {
   "cell_type": "markdown",
   "id": "b955d1e8-e295-4063-8b4a-825e23cbdf1a",
   "metadata": {},
   "source": [
    "# 1. Сколько мужчин было на корабле?"
   ]
  },
  {
   "cell_type": "code",
   "execution_count": null,
   "id": "a1cdb721-99da-41b5-88a3-cedf493f0c78",
   "metadata": {
    "tags": []
   },
   "outputs": [],
   "source": [
    "len(df[df['Sex']==\"male\"])"
   ]
  },
  {
   "cell_type": "code",
   "execution_count": null,
   "id": "bc09bfd6-8378-4b27-8fc4-76015db7df3e",
   "metadata": {
    "tags": []
   },
   "outputs": [],
   "source": [
    "fig = px.pie(df, names='Sex')\n",
    "fig.show()"
   ]
  },
  {
   "cell_type": "markdown",
   "id": "e72124df-4ad8-4f86-a909-755cb743ecf1",
   "metadata": {},
   "source": [
    "# 2. Какая доля пассажиров (в %) выжила?"
   ]
  },
  {
   "cell_type": "code",
   "execution_count": null,
   "id": "033c9df2-512b-4bf7-abdc-4a8fd5e65826",
   "metadata": {
    "tags": []
   },
   "outputs": [],
   "source": [
    "print(f\"{round(np.average(df['Survived'].values)*100,2)}%\")"
   ]
  },
  {
   "cell_type": "code",
   "execution_count": null,
   "id": "84c9ab35-e9c6-4f35-82bc-b1120db8ce5b",
   "metadata": {
    "tags": []
   },
   "outputs": [],
   "source": [
    "fig = px.pie(df['Survived'].map({0:'Погибли',1:'Выжили'}), names='Survived')\n",
    "fig.show()"
   ]
  },
  {
   "cell_type": "markdown",
   "id": "61dbba85-614f-4054-9d65-9e2835004bf7",
   "metadata": {
    "tags": []
   },
   "source": [
    "#  3. Какая доля пассажиров (в %) от общего количества путешествовала во 2-ом классе? "
   ]
  },
  {
   "cell_type": "code",
   "execution_count": null,
   "id": "c375d288-c428-4f0d-b7b7-162fc74019e7",
   "metadata": {
    "tags": []
   },
   "outputs": [],
   "source": [
    "print(f\"{round(len(df[df['Pclass']==2])/len(df)*100,2)}%\")"
   ]
  },
  {
   "cell_type": "code",
   "execution_count": null,
   "id": "2db92eef-61ce-431b-8755-f4ad9884e7dc",
   "metadata": {
    "tags": []
   },
   "outputs": [],
   "source": [
    "fig = px.pie(df, names='Pclass')\n",
    "fig.show()"
   ]
  },
  {
   "cell_type": "markdown",
   "id": "8e708565-cddb-49e7-b0ba-8f8d78d46bea",
   "metadata": {},
   "source": [
    "# 4. Посчитайте среднее и медиану возраста всех людей на корабле."
   ]
  },
  {
   "cell_type": "code",
   "execution_count": null,
   "id": "812dfad4-2f1b-4bb2-9d5f-4ca58be4aab3",
   "metadata": {
    "tags": []
   },
   "outputs": [],
   "source": [
    "df_new = df.describe()[['Age']]\n",
    "df_new"
   ]
  },
  {
   "cell_type": "code",
   "execution_count": null,
   "id": "55f078c7-82f6-4854-89ea-1301686e2eb0",
   "metadata": {
    "tags": []
   },
   "outputs": [],
   "source": [
    "df_new.loc[['50%','mean']]"
   ]
  },
  {
   "cell_type": "markdown",
   "id": "3bd74619-e4af-42b0-a633-9cdc26be9df9",
   "metadata": {},
   "source": [
    "# 5. Коррелируют ли число братьев/сестер с числом родителей/детей? \n",
    "Посчитайте корреляцию по Пирсону между признаками SibSp и \n",
    "Parch датасета."
   ]
  },
  {
   "cell_type": "code",
   "execution_count": null,
   "id": "9a6f1a4f-b59f-4969-b5ee-4a8363fc4ec1",
   "metadata": {
    "tags": []
   },
   "outputs": [],
   "source": [
    "df_corr = df.corr(method='pearson')\n",
    "df_corr"
   ]
  },
  {
   "cell_type": "code",
   "execution_count": null,
   "id": "751f081f-f587-46b1-8107-fbcecb504b68",
   "metadata": {
    "tags": []
   },
   "outputs": [],
   "source": [
    "fig = go.Figure()\n",
    "fig.add_trace(\n",
    "    go.Heatmap(\n",
    "        x = df_corr.columns,\n",
    "        y = df_corr.index,\n",
    "        z = np.array(df_corr)\n",
    "    )\n",
    ")\n",
    "fig.update_layout(\n",
    "    autosize=False,\n",
    "    width=700,\n",
    "    height=700)"
   ]
  },
  {
   "cell_type": "code",
   "execution_count": null,
   "id": "3a3a717a-36b1-4e5e-8f46-8f98dd8bbb28",
   "metadata": {
    "tags": []
   },
   "outputs": [],
   "source": [
    "df_corr.loc['Parch', 'SibSp']"
   ]
  },
  {
   "cell_type": "code",
   "execution_count": null,
   "id": "109a1eee-5cf5-4cd4-ab33-ea02236066ed",
   "metadata": {
    "tags": []
   },
   "outputs": [],
   "source": [
    "Parch=df.Parch-df.Parch.mean()\n",
    "SibSp=df.SibSp-df.SibSp.mean()\n",
    "(Parch*SibSp).mean()/df.Parch.std(ddof=0)/df.SibSp.std(ddof=0)"
   ]
  },
  {
   "cell_type": "markdown",
   "id": "6c7c7994-4d9f-40ef-b69b-a92ae286be96",
   "metadata": {},
   "source": [
    "# 6. Какое самое популярное женское имя было на корабле? \n",
    "Извлеките из полного имени пассажира (колонка Name) его личное имя \n",
    "(FirstName). "
   ]
  },
  {
   "cell_type": "code",
   "execution_count": null,
   "id": "98b97901-db30-4304-88c5-ccda8c5d30d9",
   "metadata": {
    "tags": []
   },
   "outputs": [],
   "source": [
    "df.query('Sex==\"female\"')[['Name']].sample(5)"
   ]
  },
  {
   "cell_type": "code",
   "execution_count": null,
   "id": "67eb29c3-71c1-4018-a906-414935091590",
   "metadata": {
    "tags": []
   },
   "outputs": [],
   "source": [
    "class Parser:\n",
    "    met = 1\n",
    "    __slots__ = ('dict')\n",
    "    def __new__(cls,*args):\n",
    "        if Parser.met:\n",
    "            Parser.met = object.__new__(cls)\n",
    "        return Parser.met\n",
    "    \n",
    "    def __init__(self):\n",
    "        self.dict = {}\n",
    "        \n",
    "    @staticmethod\n",
    "    def f(t):\n",
    "        x = re.findall(r\"[^(]*\\((\\w+)\",t)# тут ищем имена в скобках Mrs. и Lady.\n",
    "        if not x:\n",
    "            x = re.findall(r\"\\. (\\w+)\", t)# тут проходимся по именам типо Miss. \n",
    "        return x[0]\n",
    "        \n",
    "    def __call__(self,df):\n",
    "        for i in map(self.f,df.values):\n",
    "            self.dict[i]=self.dict.get(i,0)+1\n",
    "            \n",
    "    def __str__(self):\n",
    "        return str(reduce(lambda x,y: y if x[1]<y[1] else x,self.dict.items(), (None, 0)))\n"
   ]
  },
  {
   "cell_type": "code",
   "execution_count": null,
   "id": "7fca0e06-cb86-4d3b-9708-f02deebbf241",
   "metadata": {
    "tags": []
   },
   "outputs": [],
   "source": [
    "%%time\n",
    "pr = Parser()\n",
    "pr(df.loc[df['Sex'] == 'female', 'Name'])"
   ]
  },
  {
   "cell_type": "code",
   "execution_count": null,
   "id": "16cbf89b-0193-4685-a07a-f892710eccb9",
   "metadata": {
    "tags": []
   },
   "outputs": [],
   "source": [
    "from itertools import groupby\n",
    "import operator\n",
    "import random"
   ]
  },
  {
   "cell_type": "code",
   "execution_count": 1,
   "id": "eccbdfef-7e79-4d9e-a922-727309ff6c71",
   "metadata": {
    "tags": []
   },
   "outputs": [
    {
     "name": "stdout",
     "output_type": "stream",
     "text": [
      "(52, 387, 48)\n",
      "CPU times: total: 0 ns\n",
      "Wall time: 5 ms\n"
     ]
    }
   ],
   "source": [
    "%%time\n",
    "class Subarray:\n",
    "    __slots__ = ('temp', 'start', 'end', 'dist')\n",
    "    \n",
    "    def __init__(self, data):  # Тут data При инициализации это массив или любой итерируемые объект\n",
    "        self.temp = map(lambda x: -1 if x&1 else 1, data) #O(n)\n",
    "        self.start = 0\n",
    "        self.end = 0\n",
    "        \n",
    "    def kadane(self):  #O(n) Алгооритм Kadane\n",
    "        current = 0\n",
    "        final = 0\n",
    "        mp = -1\n",
    "        for indx, i in enumerate(self.temp):\n",
    "            current += i\n",
    "            if current <= 0:\n",
    "                mp = indx\n",
    "                current = 0\n",
    "            if final < current:\n",
    "                final = current\n",
    "                self.end = indx\n",
    "                self.start = mp+1\n",
    "            final = max(final, current)\n",
    "        return final\n",
    "\n",
    "    def __str__(self):\n",
    "        dist = self.kadane()\n",
    "        return str((self.start, self.end, dist))\n",
    "    \n",
    "    \n",
    "with open(\"data/pi.txt\", encoding='utf-8') as f:\n",
    "    data = f.read()\n",
    "data = map(int, data)\n",
    "sb = Subarray(data)\n",
    "print(sb)"
   ]
  },
  {
   "cell_type": "code",
   "execution_count": null,
   "id": "ada26f28-503f-4848-8241-791c5f85b439",
   "metadata": {
    "tags": []
   },
   "outputs": [],
   "source": [
    "%%time\n"
   ]
  },
  {
   "cell_type": "code",
   "execution_count": 9,
   "id": "1f7c6dfc-ccf1-453d-b90b-25f8f8b11321",
   "metadata": {},
   "outputs": [],
   "source": [
    "class Solution:\n",
    "\n",
    "    def climbStairs(self, n: int) -> int:\n",
    "        # n//2 - 2 шагов максимальное n - 1 шаг\n",
    "        # k2 = n//2 to 0 \n",
    "        def gen(n):\n",
    "            for i in range(n):\n",
    "                yield i+1\n",
    "        def perm(k,t):\n",
    "            gn = gen(k+t)\n",
    "            po = 1\n",
    "            for i in range(k):\n",
    "                po*=next(gn)/(i+1)\n",
    "            for i in range(t):\n",
    "                po*=next(gn)/(i+1)\n",
    "            return po\n",
    "        k = n//2\n",
    "        sumt = 0\n",
    "        while k+1:\n",
    "            sumt += perm(k,n-2*k)\n",
    "            k-=1\n",
    "        return int(sumt)"
   ]
  },
  {
   "cell_type": "code",
   "execution_count": 10,
   "id": "f4de2d79-ab75-4a5d-bab0-7ad4a7c6f2ca",
   "metadata": {},
   "outputs": [
    {
     "data": {
      "text/plain": [
       "3"
      ]
     },
     "execution_count": 10,
     "metadata": {},
     "output_type": "execute_result"
    }
   ],
   "source": [
    "sl = Solution()\n",
    "sl.climbStairs(3)"
   ]
  },
  {
   "cell_type": "code",
   "execution_count": 30,
   "id": "d25e0285-5d2e-4377-ad43-70374ab863ad",
   "metadata": {
    "tags": []
   },
   "outputs": [],
   "source": [
    "class Solution:\n",
    "    def minimumTotal(self, triangle):\n",
    "        n = len(triangle) - 1\n",
    "        for i in reversed(range(n)):\n",
    "            for q in range(n):\n",
    "                triangle[i][q] += min((triangle[i+1][q],triangle[i+1][q+1])) \n",
    "            n-=1\n",
    "        print(triangle[0][0])"
   ]
  },
  {
   "cell_type": "code",
   "execution_count": 31,
   "id": "a9ba8d50-97d8-4098-a1e8-aff5e3a75c0d",
   "metadata": {
    "tags": []
   },
   "outputs": [
    {
     "name": "stdout",
     "output_type": "stream",
     "text": [
      "11\n"
     ]
    }
   ],
   "source": [
    "sl = Solution()\n",
    "sl.minimumTotal([[2],[3,4],[6,5,7],[4,1,8,3]])"
   ]
  },
  {
   "cell_type": "code",
   "execution_count": 119,
   "id": "ea6bcbd0-1df4-4432-9ff1-4d41e5b8d814",
   "metadata": {
    "tags": []
   },
   "outputs": [],
   "source": [
    "from itertools import groupby\n",
    "from operator import itemgetter\n",
    "class Slide:\n",
    "    __slots__ = ('tup','len_of','n')\n",
    "    def __init__(self,start,end):\n",
    "        self.tup = (start,end)\n",
    "        self.len_of = (end-start)\n",
    "        self.n = 1\n",
    "class Solution:\n",
    "    def maximalSquare(self, matrix):\n",
    "        # преобразуем строки в tuple slide, len of slide, 1\n",
    "        # если по следующей строке slide состоит из 1 по тем же индексам и их длины равны LEN+1 ПРОВЕРКА НА ДОСТИЖЕНИЕ квадрата\n",
    "        def func(line):\n",
    "            line = map(int,line)\n",
    "            temp = groupby(enumerate(line),key=lambda x: x[1]&1)\n",
    "            temp = filter(itemgetter(0),temp)\n",
    "            temp = map(itemgetter(1),temp)\n",
    "            print(list(temp))\n",
    "            temp = map(next,temp)\n",
    "            print(list(temp))\n",
    "            return temp\n",
    "        return func(matrix[1])\n"
   ]
  },
  {
   "cell_type": "code",
   "execution_count": 120,
   "id": "b29ca894-5195-4c31-ae89-3f37b9f4fa6e",
   "metadata": {
    "tags": []
   },
   "outputs": [],
   "source": [
    "g = [[\"1\",\"0\",\"1\",\"0\",\"0\"],[\"1\",\"0\",\"1\",\"1\",\"1\"],[\"1\",\"1\",\"1\",\"1\",\"1\"],[\"1\",\"0\",\"0\",\"1\",\"0\"]]"
   ]
  },
  {
   "cell_type": "code",
   "execution_count": 121,
   "id": "be316ecc-8a9b-4fee-a155-6e09603d97e3",
   "metadata": {
    "tags": []
   },
   "outputs": [
    {
     "name": "stdout",
     "output_type": "stream",
     "text": [
      "[<itertools._grouper object at 0x00000224611531F0>, <itertools._grouper object at 0x0000022461153BB0>]\n",
      "[]\n"
     ]
    }
   ],
   "source": [
    "sl = Solution()\n",
    "ms = sl.maximalSquare(g)"
   ]
  },
  {
   "cell_type": "code",
   "execution_count": 118,
   "id": "a8809c14-602a-4e5a-8674-c58717e7ed51",
   "metadata": {
    "tags": []
   },
   "outputs": [
    {
     "name": "stdout",
     "output_type": "stream",
     "text": [
      "[]\n"
     ]
    }
   ],
   "source": [
    "print(list(ms))"
   ]
  },
  {
   "cell_type": "code",
   "execution_count": null,
   "id": "ef7700d7-1493-420e-ae34-b1531d360fc1",
   "metadata": {},
   "outputs": [],
   "source": [
    "print(ms[0]["
   ]
  },
  {
   "cell_type": "code",
   "execution_count": null,
   "id": "2688b623-85c3-4a20-8463-4c28df26cd5c",
   "metadata": {},
   "outputs": [],
   "source": []
  }
 ],
 "metadata": {
  "kernelspec": {
   "display_name": "Python 3 (ipykernel)",
   "language": "python",
   "name": "python3"
  },
  "language_info": {
   "codemirror_mode": {
    "name": "ipython",
    "version": 3
   },
   "file_extension": ".py",
   "mimetype": "text/x-python",
   "name": "python",
   "nbconvert_exporter": "python",
   "pygments_lexer": "ipython3",
   "version": "3.8.7"
  }
 },
 "nbformat": 4,
 "nbformat_minor": 5
}
