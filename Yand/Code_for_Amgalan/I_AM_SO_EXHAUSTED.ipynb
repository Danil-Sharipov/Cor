{
 "cells": [
  {
   "cell_type": "code",
   "execution_count": 7,
   "id": "4c60d8b8",
   "metadata": {},
   "outputs": [],
   "source": [
    "from threading import Thread\n",
    "import math\n",
    "import time\n",
    "max = 1 * 2 * 3 * 4 * 5 * 6 * 7 * 8 * 9 * 10\n",
    "nums = []\n",
    "for i in range (0, max):\n",
    "    nums.append(i)"
   ]
  },
  {
   "cell_type": "markdown",
   "id": "446b8221",
   "metadata": {},
   "source": [
    "# Решение в одном потоке"
   ]
  },
  {
   "cell_type": "code",
   "execution_count": 8,
   "id": "8a791264",
   "metadata": {},
   "outputs": [
    {
     "name": "stdout",
     "output_type": "stream",
     "text": [
      "1 0.35898852348327637 1.6660756169488062\n"
     ]
    }
   ],
   "source": [
    "start = time.time()\n",
    "temp = sum(map(math.sin,nums))\n",
    "print(1,time.time() - start,temp)"
   ]
  },
  {
   "cell_type": "markdown",
   "id": "783484f8",
   "metadata": {},
   "source": [
    "# Поиск количества потоков в диапазоне от 2 до 40"
   ]
  },
  {
   "cell_type": "code",
   "execution_count": 13,
   "id": "1aaed48e",
   "metadata": {},
   "outputs": [
    {
     "name": "stdout",
     "output_type": "stream",
     "text": [
      "2 0.39656758308410645 1.6660756169487003\n",
      "3 0.4110376834869385 1.666075616948774\n",
      "4 0.432159423828125 1.6660756169488646\n",
      "5 0.4270026683807373 1.6660756169487436\n",
      "6 0.42876267433166504 1.66607561694871\n",
      "7 0.40105199813842773 1.6660756169488016\n",
      "8 0.4032120704650879 1.6660756169487407\n",
      "9 0.4160044193267822 1.6660756169488862\n",
      "10 0.39128899574279785 1.6660756169487727\n",
      "11 0.4212310314178467 1.6660756169488335\n",
      "12 0.44847869873046875 1.6660756169487458\n",
      "13 0.43996500968933105 1.6660756169488184\n",
      "14 0.4217715263366699 1.66607561694866\n",
      "15 0.42668652534484863 1.6660756169488118\n",
      "16 0.4143519401550293 1.6660756169488298\n",
      "17 0.40650296211242676 1.666075616948543\n",
      "18 0.43059778213500977 1.6660756169487425\n",
      "19 0.4041769504547119 1.6660756169487254\n",
      "20 0.40558481216430664 1.6660756169488977\n",
      "21 0.4077739715576172 1.6660756169487514\n",
      "22 0.40662193298339844 1.6660756169486222\n",
      "23 0.42505764961242676 1.6660756169486743\n",
      "24 0.40459370613098145 1.666075616948859\n",
      "25 0.402402400970459 1.666075616948864\n",
      "26 0.4152181148529053 1.6660756169488273\n",
      "27 0.40531492233276367 1.6660756169488304\n",
      "28 0.4080533981323242 1.6660756169486781\n",
      "29 0.42598557472229004 1.666075616948578\n",
      "30 0.3932631015777588 1.666075616948647\n",
      "31 0.4818427562713623 1.6660756169486675\n",
      "32 0.4956667423248291 1.6660756169489237\n",
      "33 0.38695812225341797 1.6660756169488882\n",
      "34 0.3733360767364502 1.666075616948794\n",
      "35 0.37792110443115234 1.666075616948684\n",
      "36 0.37822580337524414 1.666075616948881\n",
      "37 0.377349853515625 1.6660756169487252\n",
      "38 0.3732476234436035 1.6660756169487398\n",
      "39 0.37845516204833984 1.6660756169488424\n"
     ]
    }
   ],
   "source": [
    "def sin(x,result,i):\n",
    "    result[i]=sum(map(math.sin,x))\n",
    "def split_in_chunk(nums,jobs,max):\n",
    "    chunk_size = max//jobs\n",
    "    for i in range(jobs-1):\n",
    "        yield nums[i*chunk_size:(i+1)*chunk_size]\n",
    "    else:\n",
    "        yield nums[(i+1)*chunk_size:]\n",
    "def main(nums, jobs):\n",
    "    result = [0]*jobs\n",
    "    threads = []\n",
    "    for indx,i in enumerate(split_in_chunk(nums,jobs,max)):\n",
    "        thread = Thread(target=sin,args=(i,result,indx))\n",
    "        thread.start()\n",
    "        threads.append(thread)\n",
    "    for i in threads:\n",
    "        i.join()\n",
    "    return sum(result)\n",
    "def test(jobs):\n",
    "    start = time.time()\n",
    "    temp = main(nums,jobs)\n",
    "    return (time.time() - start, temp)\n",
    "for i in range(2,40):\n",
    "    print(i,*test(i))\n"
   ]
  },
  {
   "cell_type": "code",
   "execution_count": null,
   "id": "862d1e67",
   "metadata": {},
   "outputs": [],
   "source": []
  },
  {
   "cell_type": "code",
   "execution_count": null,
   "id": "a4bc913e",
   "metadata": {},
   "outputs": [],
   "source": []
  }
 ],
 "metadata": {
  "kernelspec": {
   "display_name": "Python 3 (ipykernel)",
   "language": "python",
   "name": "python3"
  },
  "language_info": {
   "codemirror_mode": {
    "name": "ipython",
    "version": 3
   },
   "file_extension": ".py",
   "mimetype": "text/x-python",
   "name": "python",
   "nbconvert_exporter": "python",
   "pygments_lexer": "ipython3",
   "version": "3.8.7"
  }
 },
 "nbformat": 4,
 "nbformat_minor": 5
}
