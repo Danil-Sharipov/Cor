{
 "cells": [
  {
   "cell_type": "code",
   "execution_count": 1,
   "id": "0b871629",
   "metadata": {},
   "outputs": [
    {
     "name": "stdout",
     "output_type": "stream",
     "text": [
      "RusDictionary.txt\n"
     ]
    }
   ],
   "source": [
    "!ls|grep Rus"
   ]
  },
  {
   "cell_type": "code",
   "execution_count": 2,
   "id": "4badced0",
   "metadata": {},
   "outputs": [],
   "source": [
    "with open('RusDictionary.txt',encoding='utf-8') as f:\n",
    "    words = f.read().split('\\n')"
   ]
  },
  {
   "cell_type": "markdown",
   "id": "856c7d25",
   "metadata": {},
   "source": [
    "# Python как аллюзия на жизнь"
   ]
  },
  {
   "cell_type": "markdown",
   "id": "c14f3a22",
   "metadata": {},
   "source": [
    "Задача: В одну строку кода вывести все самые длинные слова из списка слов, и при этом сделать так, чтобы асимптотика алгоритма была лучше, чем O(N2). Проблема заключается в том, что код ниже возвращает только один элемент."
   ]
  },
  {
   "cell_type": "code",
   "execution_count": 3,
   "id": "174cdbce",
   "metadata": {},
   "outputs": [
    {
     "name": "stdout",
     "output_type": "stream",
     "text": [
      "частнопредпринимательский\n"
     ]
    }
   ],
   "source": [
    "print(max(words,key=len))"
   ]
  },
  {
   "cell_type": "markdown",
   "id": "1f6a1e45",
   "metadata": {},
   "source": [
    "Это нас не устраивает, так как вполне вероятно, что есть слово, которое будет иметь ту же длину."
   ]
  },
  {
   "cell_type": "markdown",
   "id": "e857d1f3",
   "metadata": {},
   "source": [
    "## Однострочное решение(наивное)"
   ]
  },
  {
   "cell_type": "markdown",
   "id": "37942c6c",
   "metadata": {},
   "source": [
    "Самое простое решение выглядит следующим образом:"
   ]
  },
  {
   "cell_type": "code",
   "execution_count": 4,
   "id": "b2307304",
   "metadata": {},
   "outputs": [
    {
     "ename": "NameError",
     "evalue": "name 'tqdm' is not defined",
     "output_type": "error",
     "traceback": [
      "\u001b[1;31m---------------------------------------------------------------------------\u001b[0m",
      "\u001b[1;31mNameError\u001b[0m                                 Traceback (most recent call last)",
      "File \u001b[1;32m<timed eval>:1\u001b[0m, in \u001b[0;36m<module>\u001b[1;34m\u001b[0m\n",
      "\u001b[1;31mNameError\u001b[0m: name 'tqdm' is not defined"
     ]
    }
   ],
   "source": [
    "%%time\n",
    "print([word for word in tqdm(words) if len(word) == max(len(word) for word in words)])\n"
   ]
  },
  {
   "cell_type": "markdown",
   "id": "a26845b6",
   "metadata": {},
   "source": [
    "Это решение работает следующим образом:\n",
    "\n",
    "Для каждого слова в списке проверяется его длина.\n",
    "Если длина слова равна максимальной длине, то слово добавляется в список результатов.\n",
    "Это решение работает за O(N2), потому что оно должно проверить каждое слово в списке. tqdm здесь только для отслеживания степени выполнения задачи."
   ]
  },
  {
   "cell_type": "markdown",
   "id": "0ecc1204",
   "metadata": {},
   "source": [
    "А теперь посчитаем количество элементов массива"
   ]
  },
  {
   "cell_type": "code",
   "execution_count": 5,
   "id": "6afb8a80",
   "metadata": {},
   "outputs": [
    {
     "data": {
      "text/plain": [
       "93384"
      ]
     },
     "execution_count": 5,
     "metadata": {},
     "output_type": "execute_result"
    }
   ],
   "source": [
    "len(words)"
   ]
  },
  {
   "cell_type": "markdown",
   "id": "fbc176d5",
   "metadata": {},
   "source": [
    "10 минут для массива из 100000 крайне плохая история, так как увеличение количество элементов приведет к квадратичному росту итераций. Поэтому отойдем от поиска однострочечного решения."
   ]
  },
  {
   "cell_type": "markdown",
   "id": "c58bd2ce",
   "metadata": {},
   "source": [
    "## Две строки это не так плохо"
   ]
  },
  {
   "cell_type": "markdown",
   "id": "d4fe2581",
   "metadata": {},
   "source": [
    "Первое, что приходит на ум для достижения O(n) - это разделить задачу на подзадачи, а именно найти длину самого длинного слова, а далее найти все слова заданной длины"
   ]
  },
  {
   "cell_type": "code",
   "execution_count": 6,
   "id": "d27d9f11",
   "metadata": {},
   "outputs": [
    {
     "name": "stdout",
     "output_type": "stream",
     "text": [
      "{25: ('частнопредпринимательский', 'электронно-вычислительный')}\n",
      "CPU times: total: 46.9 ms\n",
      "Wall time: 28 ms\n"
     ]
    }
   ],
   "source": [
    "%%time\n",
    "max_len = max(map(len,words))\n",
    "print({max_len:tuple(filter(lambda x: len(x) == max_len,words))})"
   ]
  },
  {
   "cell_type": "markdown",
   "id": "dd55e9e2",
   "metadata": {},
   "source": [
    "То есть задача решаема, хотя бы в 2 строки. Следовательно ничего не мешает немного нагло формально решить данную задачу."
   ]
  },
  {
   "cell_type": "markdown",
   "id": "b645cc95",
   "metadata": {},
   "source": [
    "## Методы обмана"
   ]
  },
  {
   "cell_type": "markdown",
   "id": "4d75070b",
   "metadata": {},
   "source": [
    "### Использование точек с запятой вместо новых строк"
   ]
  },
  {
   "cell_type": "code",
   "execution_count": 7,
   "id": "d3b8c6b2",
   "metadata": {},
   "outputs": [
    {
     "name": "stdout",
     "output_type": "stream",
     "text": [
      "{25: ('частнопредпринимательский', 'электронно-вычислительный')}\n",
      "CPU times: total: 31.2 ms\n",
      "Wall time: 31 ms\n"
     ]
    }
   ],
   "source": [
    "%%time\n",
    "max_len = max(map(len,words));print({max_len:tuple(filter(lambda x: len(x) == max_len,words))})"
   ]
  },
  {
   "cell_type": "markdown",
   "id": "f928e27f",
   "metadata": {},
   "source": [
    "Да, мы можем это сделать! И формально это одна строка. Но можно подойти чуть поинтереснее, использовать метод exec"
   ]
  },
  {
   "cell_type": "code",
   "execution_count": 8,
   "id": "9ad41d77",
   "metadata": {},
   "outputs": [
    {
     "name": "stdout",
     "output_type": "stream",
     "text": [
      "{25: ('частнопредпринимательский', 'электронно-вычислительный')}\n",
      "CPU times: total: 31.2 ms\n",
      "Wall time: 45 ms\n"
     ]
    }
   ],
   "source": [
    "%%time\n",
    "exec('max_len = max(map(len,words))\\nprint({max_len:tuple(filter(lambda x: len(x) == max_len,words))})')"
   ]
  },
  {
   "cell_type": "markdown",
   "id": "06237524",
   "metadata": {},
   "source": [
    "Метод exec() в Python выполняет динамически созданную программу, которая является либо строкой, либо объектом кода."
   ]
  },
  {
   "cell_type": "markdown",
   "id": "a0fd6957",
   "metadata": {},
   "source": [
    "## Повышаем маржу моржовыми операторами"
   ]
  },
  {
   "cell_type": "code",
   "execution_count": 9,
   "id": "80206591",
   "metadata": {},
   "outputs": [
    {
     "name": "stdout",
     "output_type": "stream",
     "text": [
      "{25: ('частнопредпринимательский', 'электронно-вычислительный')}\n",
      "CPU times: total: 31.2 ms\n",
      "Wall time: 17 ms\n"
     ]
    }
   ],
   "source": [
    "%%time\n",
    "print({(l := max(map(len,words))):tuple(filter(lambda x: len(x) == l,words))})"
   ]
  },
  {
   "cell_type": "markdown",
   "id": "bfa56a33",
   "metadata": {},
   "source": [
    "Тут также мы объединяем две строки немного нечестным способом. Однако разницы с предыдущими решениями заключается в том, что использование моржовых операторов в Python позволяет присвоить значение переменной и вернуть это значение, поэтому порой можно написать код короче и сделать его более читаемым, и он может быть даже более эффективным с точки зрения вычислений. А потому будем считать это более честным решением данной задачи. В дальнейших решениях я также буду использовать моржовые выражения из-за желания увеличить читаемость кода."
   ]
  },
  {
   "cell_type": "markdown",
   "id": "2a1ff5e2",
   "metadata": {},
   "source": [
    "## Функциональное программирование без Reduse? Это как?"
   ]
  },
  {
   "cell_type": "markdown",
   "id": "e1f683a1",
   "metadata": {},
   "source": [
    "Основная проблема функций map, filter является то, что функция применяется поэлементно(можно даже сказать независимо), а потому пройтись с помощью них один раз по массиву не даст нам информации. Можно использовать в качестве функции, которая позволит нам использовать результаты прошлой итерации, например, Reduse."
   ]
  },
  {
   "cell_type": "code",
   "execution_count": 10,
   "id": "b76fcc0f",
   "metadata": {},
   "outputs": [
    {
     "name": "stdout",
     "output_type": "stream",
     "text": [
      "{25: ['частнопредпринимательский', 'электронно-вычислительный']}\n",
      "CPU times: total: 31.2 ms\n",
      "Wall time: 40 ms\n"
     ]
    }
   ],
   "source": [
    "%%time\n",
    "from functools import reduce\n",
    "print(reduce(lambda x,y: {l:[y]} if (l := len(y)) > (key := tuple(x.keys())[0]) else {key:x[key]+[y]} if l == key else x,words,{0:[]}))"
   ]
  },
  {
   "cell_type": "markdown",
   "id": "91a3757f",
   "metadata": {},
   "source": [
    "Описать работу данной программы можно с помощью несжатой функции"
   ]
  },
  {
   "cell_type": "code",
   "execution_count": 11,
   "id": "cf8a5027",
   "metadata": {},
   "outputs": [
    {
     "name": "stdout",
     "output_type": "stream",
     "text": [
      "CPU times: total: 62.5 ms\n",
      "Wall time: 53 ms\n"
     ]
    },
    {
     "data": {
      "text/plain": [
       "{25: ['частнопредпринимательский', 'электронно-вычислительный']}"
      ]
     },
     "execution_count": 11,
     "metadata": {},
     "output_type": "execute_result"
    }
   ],
   "source": [
    "%%time\n",
    "def func(x,y):\n",
    "#     x is {key:list}\n",
    "#     key - это длина самого длинного слова, которое встретилось на данной итерации\n",
    "#     list - список элементов данной длины\n",
    "    ret = None\n",
    "    if (l:=len(y))>(key := tuple(x.keys())[0]):\n",
    "        return {l:[y]}\n",
    "    else:\n",
    "        if l == key:\n",
    "            return {key:x[key]+[y]}\n",
    "        else:\n",
    "            return x\n",
    "reduce(func,words,{0:[]})"
   ]
  },
  {
   "cell_type": "markdown",
   "id": "a33e0011",
   "metadata": {},
   "source": [
    "Для большей формальности сделаем импорт и вызов в одной строчке кода"
   ]
  },
  {
   "cell_type": "code",
   "execution_count": 12,
   "id": "3a200912",
   "metadata": {
    "scrolled": true
   },
   "outputs": [
    {
     "name": "stdout",
     "output_type": "stream",
     "text": [
      "{25: ['частнопредпринимательский', 'электронно-вычислительный']}\n",
      "CPU times: total: 46.9 ms\n",
      "Wall time: 60 ms\n"
     ]
    }
   ],
   "source": [
    "%%time\n",
    "print(__import__(\"functools\").reduce(lambda x,y: {l:[y]} if (l := len(y)) > (key := tuple(x.keys())[0]) else {key:x[key]+[y]} if l == key else x,words,{0:[]}))"
   ]
  },
  {
   "cell_type": "markdown",
   "id": "e8bd51e2",
   "metadata": {},
   "source": [
    "## А почему бы нам не переписать взаимодействие"
   ]
  },
  {
   "cell_type": "markdown",
   "id": "09e5d1ef",
   "metadata": {},
   "source": [
    "Если мы не удовлетворены работой стандартных типов данных для какой-либо задачи, всегда можно их просто переписать."
   ]
  },
  {
   "cell_type": "code",
   "execution_count": 32,
   "id": "499e694f",
   "metadata": {},
   "outputs": [],
   "source": [
    "from joblib import Parallel, delayed\n",
    "import numpy as np\n",
    "class List(list):\n",
    "    @staticmethod\n",
    "    def sum_of_sets(sets,union_set):\n",
    "        for set in sets:\n",
    "            union_set = union_set.union(set)\n",
    "        return union_set\n",
    "    @staticmethod\n",
    "    def find_the_max(array):\n",
    "        l = 0\n",
    "        arr = set()\n",
    "        for i in array:\n",
    "            if l == (m:=len(i)):\n",
    "                arr.add(i)\n",
    "            if l < m:\n",
    "                arr = {i}\n",
    "                l = m\n",
    "        return (l,arr)\n",
    "    def max_str(self,n):\n",
    "        cores = 8\n",
    "        data = np.array_split(self,n)\n",
    "        data = Parallel(n_jobs=n)(delayed(self.find_the_max)(i) for i in data)\n",
    "        l = max(map(lambda x: x[0], data))\n",
    "        t = self.sum_of_sets(map(lambda x: x[1],filter(lambda x: x[0] == l, data)),set())\n",
    "        return t"
   ]
  },
  {
   "cell_type": "code",
   "execution_count": 33,
   "id": "ea644af3",
   "metadata": {},
   "outputs": [
    {
     "name": "stdout",
     "output_type": "stream",
     "text": [
      "{'частнопредпринимательский', 'электронно-вычислительный'}\n",
      "CPU times: total: 78.1 ms\n",
      "Wall time: 206 ms\n"
     ]
    }
   ],
   "source": [
    "%%time\n",
    "l = List(words)\n",
    "print(l.max_str(8))"
   ]
  },
  {
   "cell_type": "markdown",
   "id": "11b31a18",
   "metadata": {},
   "source": [
    "#"
   ]
  },
  {
   "cell_type": "markdown",
   "id": "997d547c",
   "metadata": {},
   "source": [
    "## Аллюзия на жизнь"
   ]
  },
  {
   "cell_type": "markdown",
   "id": "549a6797",
   "metadata": {},
   "source": [
    "Таким образом, мы видим, что в Питоне не существует решения задачи вывода всех самых длинных слов из списка слов за одну строку с асимптотикой лучше, чем O(N2) без небольших трюков.\n",
    "\n",
    "Этот факт можно рассматривать как аллюзию на жизнь. В жизни часто бывает так, что самое короткое решение не является оптимальным. Для того, чтобы добиться наилучшего результата, нам часто приходится идти на компромисс и выбирать более длинное решение.\n",
    "\n",
    "В этом случае, если мы хотим решить задачу за одну строку, мы должны пожертвовать асимптотической сложностью или читаемостью."
   ]
  },
  {
   "cell_type": "code",
   "execution_count": null,
   "id": "c1d457e2",
   "metadata": {},
   "outputs": [],
   "source": []
  },
  {
   "cell_type": "code",
   "execution_count": null,
   "id": "43c59bea",
   "metadata": {},
   "outputs": [],
   "source": []
  },
  {
   "cell_type": "code",
   "execution_count": null,
   "id": "11d40719",
   "metadata": {},
   "outputs": [],
   "source": []
  },
  {
   "cell_type": "code",
   "execution_count": null,
   "id": "26a360dc",
   "metadata": {},
   "outputs": [],
   "source": []
  },
  {
   "cell_type": "code",
   "execution_count": null,
   "id": "01233f78",
   "metadata": {},
   "outputs": [],
   "source": []
  },
  {
   "cell_type": "code",
   "execution_count": null,
   "id": "b38fde66",
   "metadata": {},
   "outputs": [],
   "source": []
  },
  {
   "cell_type": "code",
   "execution_count": null,
   "id": "d1281599",
   "metadata": {},
   "outputs": [],
   "source": []
  },
  {
   "cell_type": "code",
   "execution_count": null,
   "id": "ab7c502f",
   "metadata": {},
   "outputs": [],
   "source": []
  }
 ],
 "metadata": {
  "kernelspec": {
   "display_name": "Python 3 (ipykernel)",
   "language": "python",
   "name": "python3"
  },
  "language_info": {
   "codemirror_mode": {
    "name": "ipython",
    "version": 3
   },
   "file_extension": ".py",
   "mimetype": "text/x-python",
   "name": "python",
   "nbconvert_exporter": "python",
   "pygments_lexer": "ipython3",
   "version": "3.8.7"
  }
 },
 "nbformat": 4,
 "nbformat_minor": 5
}
