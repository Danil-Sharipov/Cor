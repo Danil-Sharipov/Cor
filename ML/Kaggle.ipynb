{
 "cells": [
  {
   "cell_type": "code",
   "execution_count": 3,
   "id": "e58812f2-1297-45b0-9679-2d8442082450",
   "metadata": {
    "tags": []
   },
   "outputs": [],
   "source": [
    "import pandas as pd\n",
    "from sklearn.model_selection import train_test_split\n",
    "import catboost as cb\n",
    "import optuna\n",
    "import shap\n",
    "from sklearn.metrics import accuracy_score\n",
    "from sklearn.preprocessing import LabelEncoder"
   ]
  },
  {
   "cell_type": "code",
   "execution_count": 4,
   "id": "4dddc1f5-b0fb-44e8-bd31-556146d5488b",
   "metadata": {
    "tags": []
   },
   "outputs": [],
   "source": [
    "train = pd.read_csv('train.csv.zip', compression='zip')"
   ]
  },
  {
   "cell_type": "code",
   "execution_count": 5,
   "id": "5693dd94-e96f-4239-8b14-7691c5ec481c",
   "metadata": {
    "tags": []
   },
   "outputs": [
    {
     "name": "stdout",
     "output_type": "stream",
     "text": [
      "<class 'pandas.core.frame.DataFrame'>\n",
      "RangeIndex: 900000 entries, 0 to 899999\n",
      "Data columns (total 33 columns):\n",
      " #   Column  Non-Null Count   Dtype  \n",
      "---  ------  --------------   -----  \n",
      " 0   id      900000 non-null  int64  \n",
      " 1   f_00    900000 non-null  float64\n",
      " 2   f_01    900000 non-null  float64\n",
      " 3   f_02    900000 non-null  float64\n",
      " 4   f_03    900000 non-null  float64\n",
      " 5   f_04    900000 non-null  float64\n",
      " 6   f_05    900000 non-null  float64\n",
      " 7   f_06    900000 non-null  float64\n",
      " 8   f_07    900000 non-null  int64  \n",
      " 9   f_08    900000 non-null  int64  \n",
      " 10  f_09    900000 non-null  int64  \n",
      " 11  f_10    900000 non-null  int64  \n",
      " 12  f_11    900000 non-null  int64  \n",
      " 13  f_12    900000 non-null  int64  \n",
      " 14  f_13    900000 non-null  int64  \n",
      " 15  f_14    900000 non-null  int64  \n",
      " 16  f_15    900000 non-null  int64  \n",
      " 17  f_16    900000 non-null  int64  \n",
      " 18  f_17    900000 non-null  int64  \n",
      " 19  f_18    900000 non-null  int64  \n",
      " 20  f_19    900000 non-null  float64\n",
      " 21  f_20    900000 non-null  float64\n",
      " 22  f_21    900000 non-null  float64\n",
      " 23  f_22    900000 non-null  float64\n",
      " 24  f_23    900000 non-null  float64\n",
      " 25  f_24    900000 non-null  float64\n",
      " 26  f_25    900000 non-null  float64\n",
      " 27  f_26    900000 non-null  float64\n",
      " 28  f_27    900000 non-null  object \n",
      " 29  f_28    900000 non-null  float64\n",
      " 30  f_29    900000 non-null  int64  \n",
      " 31  f_30    900000 non-null  int64  \n",
      " 32  target  900000 non-null  int64  \n",
      "dtypes: float64(16), int64(16), object(1)\n",
      "memory usage: 226.6+ MB\n"
     ]
    }
   ],
   "source": [
    "train.info()"
   ]
  },
  {
   "cell_type": "code",
   "execution_count": 6,
   "id": "ff60eea0-0e12-4247-9471-be7cab29cc85",
   "metadata": {
    "tags": []
   },
   "outputs": [],
   "source": [
    "X = train.drop('target',axis=1)\n",
    "y = train[['target']]\n",
    "lb = LabelEncoder()\n",
    "X.f_27 = lb.fit_transform(X.f_27)"
   ]
  },
  {
   "cell_type": "code",
   "execution_count": 7,
   "id": "34369637-ef90-46e0-8475-1d1f8e05265a",
   "metadata": {
    "tags": []
   },
   "outputs": [
    {
     "name": "stdout",
     "output_type": "stream",
     "text": [
      "<class 'pandas.core.frame.DataFrame'>\n",
      "RangeIndex: 900000 entries, 0 to 899999\n",
      "Data columns (total 32 columns):\n",
      " #   Column  Non-Null Count   Dtype  \n",
      "---  ------  --------------   -----  \n",
      " 0   id      900000 non-null  int64  \n",
      " 1   f_00    900000 non-null  float64\n",
      " 2   f_01    900000 non-null  float64\n",
      " 3   f_02    900000 non-null  float64\n",
      " 4   f_03    900000 non-null  float64\n",
      " 5   f_04    900000 non-null  float64\n",
      " 6   f_05    900000 non-null  float64\n",
      " 7   f_06    900000 non-null  float64\n",
      " 8   f_07    900000 non-null  int64  \n",
      " 9   f_08    900000 non-null  int64  \n",
      " 10  f_09    900000 non-null  int64  \n",
      " 11  f_10    900000 non-null  int64  \n",
      " 12  f_11    900000 non-null  int64  \n",
      " 13  f_12    900000 non-null  int64  \n",
      " 14  f_13    900000 non-null  int64  \n",
      " 15  f_14    900000 non-null  int64  \n",
      " 16  f_15    900000 non-null  int64  \n",
      " 17  f_16    900000 non-null  int64  \n",
      " 18  f_17    900000 non-null  int64  \n",
      " 19  f_18    900000 non-null  int64  \n",
      " 20  f_19    900000 non-null  float64\n",
      " 21  f_20    900000 non-null  float64\n",
      " 22  f_21    900000 non-null  float64\n",
      " 23  f_22    900000 non-null  float64\n",
      " 24  f_23    900000 non-null  float64\n",
      " 25  f_24    900000 non-null  float64\n",
      " 26  f_25    900000 non-null  float64\n",
      " 27  f_26    900000 non-null  float64\n",
      " 28  f_27    900000 non-null  int32  \n",
      " 29  f_28    900000 non-null  float64\n",
      " 30  f_29    900000 non-null  int64  \n",
      " 31  f_30    900000 non-null  int64  \n",
      "dtypes: float64(16), int32(1), int64(15)\n",
      "memory usage: 216.3 MB\n"
     ]
    }
   ],
   "source": [
    "X.info()"
   ]
  },
  {
   "cell_type": "code",
   "execution_count": 8,
   "id": "433e2e91-51b0-4e19-b631-ab847b91ba11",
   "metadata": {
    "tags": []
   },
   "outputs": [],
   "source": [
    "X_train, X_test, y_train, y_test = train_test_split(X,y, test_size = 0.2, shuffle=True)"
   ]
  },
  {
   "cell_type": "code",
   "execution_count": 15,
   "id": "72b7d726-e082-44f8-b1e5-9d0736b00b8e",
   "metadata": {
    "tags": []
   },
   "outputs": [],
   "source": [
    "class Model:\n",
    "    __slots__ = ('best_estimator', 'catboost_model', 'X_train', 'X_test', 'y_train', 'y_test')\n",
    "    \n",
    "    def __init__(self, X, y):\n",
    "        self.best_estimator = None\n",
    "        self.catboost_model = None\n",
    "        self.X_train, self.X_test, self.y_train, self.y_test = train_test_split(X,y, test_size = 0.2, shuffle=True)\n",
    "        \n",
    "    def callback(self, study, trial):\n",
    "        if study.best_trial.number == trial.number:\n",
    "            self.best_booster = self.catboost_model\n",
    "            \n",
    "    def obj(self, trial):\n",
    "        model = cb.CatBoostClassifier(\n",
    "        iterations=trial.suggest_int(\"iterations\", 1, 1000),\n",
    "        learning_rate=trial.suggest_float(\"learning_rate\", 1e-3, 1e-1, log=True),\n",
    "        depth=trial.suggest_int(\"depth\", 4, 10),\n",
    "        l2_leaf_reg=trial.suggest_float(\"l2_leaf_reg\", 1e-8, 100.0, log=True),\n",
    "        bootstrap_type=trial.suggest_categorical(\"bootstrap_type\", [\"Bayesian\"]),\n",
    "        random_strength=trial.suggest_float(\"random_strength\", 1e-8, 10.0, log=True),\n",
    "        bagging_temperature=trial.suggest_float(\"bagging_temperature\", 0.0, 10.0),\n",
    "        od_type=trial.suggest_categorical(\"od_type\", [\"IncToDec\", \"Iter\"]),\n",
    "        od_wait=trial.suggest_int(\"od_wait\", 10, 50),\n",
    "        verbose=False\n",
    "    )\n",
    "        model.fit(self.X_train, self.y_train)\n",
    "        self.catboost_model = model\n",
    "        y_pred = model.predict(self.X_test)\n",
    "        return accuracy_score(self.y_test, y_pred)\n",
    "    \n",
    "    def test(self):\n",
    "        study = optuna.create_study(study_name=\"catboost\", direction=\"maximize\")\n",
    "        study.optimize(self.obj, n_trials=5, n_jobs=-1, callbacks=[self.callback])\n",
    "        return self.best_estimator\n",
    "\n",
    "\n"
   ]
  },
  {
   "cell_type": "code",
   "execution_count": 16,
   "id": "75604fb5-acc3-4931-b0e7-4e56f24826a8",
   "metadata": {
    "tags": []
   },
   "outputs": [],
   "source": [
    "model = Model(X, y)"
   ]
  },
  {
   "cell_type": "code",
   "execution_count": 17,
   "id": "47b6ca43-e23c-43e7-a3f9-ac4bd656aacb",
   "metadata": {
    "tags": []
   },
   "outputs": [
    {
     "name": "stderr",
     "output_type": "stream",
     "text": [
      "[I 2023-10-10 22:12:38,392] A new study created in memory with name: catboost\n",
      "[I 2023-10-10 22:12:49,174] Trial 2 finished with value: 0.6658444444444445 and parameters: {'iterations': 19, 'learning_rate': 0.011247003301496892, 'depth': 6, 'l2_leaf_reg': 1.8428683309314092e-07, 'bootstrap_type': 'Bayesian', 'random_strength': 2.966472916962021, 'bagging_temperature': 3.595347449035083, 'od_type': 'IncToDec', 'od_wait': 41}. Best is trial 2 with value: 0.6658444444444445.\n",
      "[I 2023-10-10 22:16:38,228] Trial 4 finished with value: 0.7638444444444444 and parameters: {'iterations': 477, 'learning_rate': 0.029996824705549877, 'depth': 5, 'l2_leaf_reg': 1.5538685777965289, 'bootstrap_type': 'Bayesian', 'random_strength': 0.0003063441878101009, 'bagging_temperature': 7.18178290854283, 'od_type': 'IncToDec', 'od_wait': 19}. Best is trial 4 with value: 0.7638444444444444.\n",
      "[I 2023-10-10 22:17:12,149] Trial 1 finished with value: 0.7252444444444445 and parameters: {'iterations': 796, 'learning_rate': 0.0036422936984682316, 'depth': 4, 'l2_leaf_reg': 0.0008979425936294805, 'bootstrap_type': 'Bayesian', 'random_strength': 1.4192788055778773e-07, 'bagging_temperature': 0.037294374797721686, 'od_type': 'Iter', 'od_wait': 41}. Best is trial 4 with value: 0.7638444444444444.\n",
      "[I 2023-10-10 22:18:01,065] Trial 3 finished with value: 0.6847388888888889 and parameters: {'iterations': 822, 'learning_rate': 0.0010344376854494587, 'depth': 5, 'l2_leaf_reg': 3.876867308228139e-08, 'bootstrap_type': 'Bayesian', 'random_strength': 0.7798301701375181, 'bagging_temperature': 6.908295547045224, 'od_type': 'IncToDec', 'od_wait': 34}. Best is trial 4 with value: 0.7638444444444444.\n",
      "[I 2023-10-10 22:20:39,742] Trial 0 finished with value: 0.8050277777777778 and parameters: {'iterations': 616, 'learning_rate': 0.003552796149667468, 'depth': 10, 'l2_leaf_reg': 1.2085976732088713e-05, 'bootstrap_type': 'Bayesian', 'random_strength': 0.07770616054654574, 'bagging_temperature': 3.442790875766706, 'od_type': 'IncToDec', 'od_wait': 19}. Best is trial 0 with value: 0.8050277777777778.\n"
     ]
    }
   ],
   "source": [
    "best = model.test()"
   ]
  },
  {
   "cell_type": "code",
   "execution_count": 20,
   "id": "446776c3-36cd-4268-b4ed-8ccd25cb4a7a",
   "metadata": {
    "tags": []
   },
   "outputs": [
    {
     "data": {
      "text/plain": [
       "NoneType"
      ]
     },
     "execution_count": 20,
     "metadata": {},
     "output_type": "execute_result"
    }
   ],
   "source": [
    "type(best)"
   ]
  },
  {
   "cell_type": "code",
   "execution_count": null,
   "id": "4d00938f-a004-446e-937d-8e67c6b95a6d",
   "metadata": {},
   "outputs": [],
   "source": []
  },
  {
   "cell_type": "code",
   "execution_count": null,
   "id": "6a910042-f1e5-4e90-b98d-209703684038",
   "metadata": {},
   "outputs": [],
   "source": []
  }
 ],
 "metadata": {
  "kernelspec": {
   "display_name": "Python 3 (ipykernel)",
   "language": "python",
   "name": "python3"
  },
  "language_info": {
   "codemirror_mode": {
    "name": "ipython",
    "version": 3
   },
   "file_extension": ".py",
   "mimetype": "text/x-python",
   "name": "python",
   "nbconvert_exporter": "python",
   "pygments_lexer": "ipython3",
   "version": "3.8.7"
  }
 },
 "nbformat": 4,
 "nbformat_minor": 5
}
