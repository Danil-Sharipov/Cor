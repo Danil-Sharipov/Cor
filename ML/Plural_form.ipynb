{
 "cells": [
  {
   "cell_type": "code",
   "execution_count": 27,
   "id": "6ccaa1ce",
   "metadata": {},
   "outputs": [],
   "source": [
    "import pymorphy2\n",
    "\n",
    "def to_plural(word):\n",
    "    parse_results = pymorphy2.MorphAnalyzer().parse(word)\n",
    "    if not parse_results:\n",
    "        return word\n",
    "\n",
    "    m = parse_results[0]\n",
    "    if m.tag.POS == \"NOUN\":\n",
    "        return m.inflect({'plur'}).word\n",
    "    else:\n",
    "        return word\n"
   ]
  },
  {
   "cell_type": "code",
   "execution_count": 26,
   "id": "04fc3576",
   "metadata": {},
   "outputs": [
    {
     "name": "stdout",
     "output_type": "stream",
     "text": [
      "люди\n",
      "метро\n",
      "карты\n",
      "деревья\n",
      "звёзды\n",
      "мальчики\n",
      "пары\n",
      "песни\n",
      "слова\n",
      "братья\n",
      "сыновья\n",
      "бабушки\n",
      "кресла\n",
      "кафе\n",
      "дома\n",
      "задания\n",
      "этажи\n",
      "сёстры\n",
      "книги\n",
      "города\n",
      "страны\n",
      "дети\n",
      "врачи\n",
      "предложения\n"
     ]
    }
   ],
   "source": [
    "words = \"человек метро карта дерево звезда мальчик пара песня слово брат сын бабушка кресло кафе дом задание этаж сестра книга город страна ребенок врач предложение\".split()\n",
    "for i in map(to_plural, words):\n",
    "    print(i)"
   ]
  },
  {
   "cell_type": "code",
   "execution_count": null,
   "id": "c9fec9ad",
   "metadata": {},
   "outputs": [],
   "source": []
  }
 ],
 "metadata": {
  "kernelspec": {
   "display_name": "Python 3 (ipykernel)",
   "language": "python",
   "name": "python3"
  },
  "language_info": {
   "codemirror_mode": {
    "name": "ipython",
    "version": 3
   },
   "file_extension": ".py",
   "mimetype": "text/x-python",
   "name": "python",
   "nbconvert_exporter": "python",
   "pygments_lexer": "ipython3",
   "version": "3.8.7"
  }
 },
 "nbformat": 4,
 "nbformat_minor": 5
}
