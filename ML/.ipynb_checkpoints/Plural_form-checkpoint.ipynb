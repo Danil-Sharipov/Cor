{
 "cells": [
  {
   "cell_type": "code",
   "execution_count": 13,
   "id": "eb51d8c4",
   "metadata": {},
   "outputs": [],
   "source": [
    "from danil import to_plural"
   ]
  },
  {
   "cell_type": "code",
   "execution_count": 16,
   "id": "53285493",
   "metadata": {},
   "outputs": [
    {
     "name": "stdout",
     "output_type": "stream",
     "text": [
      "гулять\n"
     ]
    }
   ],
   "source": [
    "print(to_plural(\"дом\"))"
   ]
  },
  {
   "cell_type": "code",
   "execution_count": null,
   "id": "45599b12",
   "metadata": {},
   "outputs": [],
   "source": []
  }
 ],
 "metadata": {
  "kernelspec": {
   "display_name": "Python 3 (ipykernel)",
   "language": "python",
   "name": "python3"
  },
  "language_info": {
   "codemirror_mode": {
    "name": "ipython",
    "version": 3
   },
   "file_extension": ".py",
   "mimetype": "text/x-python",
   "name": "python",
   "nbconvert_exporter": "python",
   "pygments_lexer": "ipython3",
   "version": "3.8.7"
  }
 },
 "nbformat": 4,
 "nbformat_minor": 5
}
