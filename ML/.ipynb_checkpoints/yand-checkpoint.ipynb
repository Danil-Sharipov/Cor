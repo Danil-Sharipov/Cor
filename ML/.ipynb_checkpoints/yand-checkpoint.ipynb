{
 "cells": [
  {
   "cell_type": "markdown",
   "id": "68d9c52c",
   "metadata": {},
   "source": [
    "# Python как аллюзия на жизнь"
   ]
  },
  {
   "cell_type": "markdown",
   "id": "fd9611c9",
   "metadata": {},
   "source": [
    "Задача: В одну строку кода вывести все самые длинные слова из списка слов, и при этом сделать так, чтобы асимптотика алгоритма была лучше, чем O(N2). Проблема заключается в том, что код ниже возвращает только один элемент."
   ]
  },
  {
   "cell_type": "code",
   "execution_count": 28,
   "id": "3efb4411",
   "metadata": {},
   "outputs": [
    {
     "name": "stdout",
     "output_type": "stream",
     "text": [
      "частнопредпринимательский\n"
     ]
    }
   ],
   "source": [
    "print(max(words,key=len))"
   ]
  },
  {
   "cell_type": "markdown",
   "id": "3a392cbf",
   "metadata": {},
   "source": [
    "Это нас не устраивает, так как вполне вероятно, что есть слово, которое будет иметь ту же длину."
   ]
  },
  {
   "cell_type": "markdown",
   "id": "429f8519",
   "metadata": {},
   "source": [
    "## Однострочное решение(наивное)"
   ]
  },
  {
   "cell_type": "markdown",
   "id": "a68aff39",
   "metadata": {},
   "source": [
    "Самое простое решение выглядит следующим образом:"
   ]
  },
  {
   "cell_type": "code",
   "execution_count": 11,
   "id": "b3e6c924",
   "metadata": {},
   "outputs": [
    {
     "name": "stderr",
     "output_type": "stream",
     "text": [
      "100%|███████████████████████████████████████████████████████████████████████████| 93383/93383 [09:41<00:00, 160.63it/s]"
     ]
    },
    {
     "name": "stdout",
     "output_type": "stream",
     "text": [
      "['частнопредпринимательский', 'электронно-вычислительный']\n",
      "CPU times: total: 9min 41s\n",
      "Wall time: 9min 41s\n"
     ]
    },
    {
     "name": "stderr",
     "output_type": "stream",
     "text": [
      "\n"
     ]
    }
   ],
   "source": [
    "%%time\n",
    "print([word for word in tqdm(words) if len(word) == max(len(word) for word in words)])\n"
   ]
  },
  {
   "cell_type": "markdown",
   "id": "a6e7e7f9",
   "metadata": {},
   "source": [
    "Это решение работает следующим образом:\n",
    "\n",
    "Для каждого слова в списке проверяется его длина.\n",
    "Если длина слова равна максимальной длине, то слово добавляется в список результатов.\n",
    "Это решение работает за O(N2), потому что оно должно проверить каждое слово в списке. tqdm здесь только для отслеживания степени выполнения задачи."
   ]
  },
  {
   "cell_type": "markdown",
   "id": "94993ca5",
   "metadata": {},
   "source": [
    "А теперь посчитаем количество элементов массива"
   ]
  },
  {
   "cell_type": "code",
   "execution_count": 12,
   "id": "a049a5c0",
   "metadata": {},
   "outputs": [
    {
     "data": {
      "text/plain": [
       "93383"
      ]
     },
     "execution_count": 12,
     "metadata": {},
     "output_type": "execute_result"
    }
   ],
   "source": [
    "len(words)"
   ]
  },
  {
   "cell_type": "markdown",
   "id": "f550661b",
   "metadata": {},
   "source": [
    "10 минут для массива из 100000 крайне плохая история, так как увеличение количество элементов приведет к квадратичному росту итераций. Поэтому отойдем от поиска однострочечного решения."
   ]
  },
  {
   "cell_type": "markdown",
   "id": "9ca3b07b",
   "metadata": {},
   "source": [
    "## Две строки это не так плохо"
   ]
  },
  {
   "cell_type": "markdown",
   "id": "1dcc967a",
   "metadata": {},
   "source": [
    "Первое, что приходит на ум для достижения O(n) - это разделить задачу на подзадачи, а именно найти длину самого длинного слова, а далее найти все слова заданной длины"
   ]
  },
  {
   "cell_type": "code",
   "execution_count": 13,
   "id": "4ffb98d5",
   "metadata": {},
   "outputs": [
    {
     "name": "stdout",
     "output_type": "stream",
     "text": [
      "{25: ('частнопредпринимательский', 'электронно-вычислительный')}\n",
      "CPU times: total: 0 ns\n",
      "Wall time: 9.97 ms\n"
     ]
    }
   ],
   "source": [
    "%%time\n",
    "max_len = max(map(len,words))\n",
    "print({max_len:tuple(filter(lambda x: len(x) == max_len,words))})"
   ]
  },
  {
   "cell_type": "markdown",
   "id": "e8b789a0",
   "metadata": {},
   "source": [
    "То есть задача решаема, хотя бы в 2 строки. Следовательно ничего не мешает немного нагло формально решить данную задачу."
   ]
  },
  {
   "cell_type": "markdown",
   "id": "aecddf90",
   "metadata": {},
   "source": [
    "## Методы обмана"
   ]
  },
  {
   "cell_type": "markdown",
   "id": "9d538beb",
   "metadata": {},
   "source": [
    "### Использование точек с запятой вместо новых строк"
   ]
  },
  {
   "cell_type": "code",
   "execution_count": 14,
   "id": "1fa46769",
   "metadata": {},
   "outputs": [
    {
     "name": "stdout",
     "output_type": "stream",
     "text": [
      "{25: ('частнопредпринимательский', 'электронно-вычислительный')}\n",
      "CPU times: total: 0 ns\n",
      "Wall time: 10 ms\n"
     ]
    }
   ],
   "source": [
    "%%time\n",
    "max_len = max(map(len,words));print({max_len:tuple(filter(lambda x: len(x) == max_len,words))})"
   ]
  },
  {
   "cell_type": "markdown",
   "id": "aa694c80",
   "metadata": {},
   "source": [
    "Да, мы можем это сделать! И формально это одна строка. Но можно подойти чуть поинтереснее, использовать метод exec"
   ]
  },
  {
   "cell_type": "code",
   "execution_count": 15,
   "id": "2f2b9fd1",
   "metadata": {},
   "outputs": [
    {
     "name": "stdout",
     "output_type": "stream",
     "text": [
      "{25: ('частнопредпринимательский', 'электронно-вычислительный')}\n",
      "CPU times: total: 0 ns\n",
      "Wall time: 13 ms\n"
     ]
    }
   ],
   "source": [
    "%%time\n",
    "exec('max_len = max(map(len,words))\\nprint({max_len:tuple(filter(lambda x: len(x) == max_len,words))})')"
   ]
  },
  {
   "cell_type": "markdown",
   "id": "e1da4320",
   "metadata": {},
   "source": [
    "Метод exec() в Python выполняет динамически созданную программу, которая является либо строкой, либо объектом кода."
   ]
  },
  {
   "cell_type": "markdown",
   "id": "44cc115e",
   "metadata": {},
   "source": [
    "## Повышаем маржу моржовыми операторами"
   ]
  },
  {
   "cell_type": "code",
   "execution_count": 16,
   "id": "70ac0881",
   "metadata": {},
   "outputs": [
    {
     "name": "stdout",
     "output_type": "stream",
     "text": [
      "{25: ('частнопредпринимательский', 'электронно-вычислительный')}\n",
      "CPU times: total: 15.6 ms\n",
      "Wall time: 13 ms\n"
     ]
    }
   ],
   "source": [
    "%%time\n",
    "print({(l := max(map(len,words))):tuple(filter(lambda x: len(x) == l,words))})"
   ]
  },
  {
   "cell_type": "markdown",
   "id": "48fa9ffa",
   "metadata": {},
   "source": [
    "Тут также мы объединяем две строки немного нечестным способом. Однако разницы с предыдущими решениями заключается в том, что использование моржовых операторов в Python позволяет присвоить значение переменной и вернуть это значение, поэтому порой можно написать код короче и сделать его более читаемым, и он может быть даже более эффективным с точки зрения вычислений. А потому будем считать это более честным решением данной задачи. В дальнейших решениях я также буду использовать моржовые выражения из-за желания увеличить читаемость кода."
   ]
  },
  {
   "cell_type": "markdown",
   "id": "191495fb",
   "metadata": {},
   "source": [
    "## Функциональное программирование без Reduse? Это как?"
   ]
  },
  {
   "cell_type": "markdown",
   "id": "627d7526",
   "metadata": {},
   "source": [
    "Основная проблема функций map, filter является то, что функция применяется поэлементно(можно даже сказать независимо), а потому пройтись с помощью них один раз по массиву не даст нам информации. Можно использовать в качестве функции, которая позволит нам использовать результаты прошлой итерации, например, Reduse."
   ]
  },
  {
   "cell_type": "code",
   "execution_count": 17,
   "id": "b96346f6",
   "metadata": {},
   "outputs": [
    {
     "name": "stdout",
     "output_type": "stream",
     "text": [
      "{25: ['частнопредпринимательский', 'электронно-вычислительный']}\n",
      "CPU times: total: 31.2 ms\n",
      "Wall time: 31 ms\n"
     ]
    }
   ],
   "source": [
    "%%time\n",
    "from functools import reduce\n",
    "print(reduce(lambda x,y: {l:[y]} if (l := len(y)) > (key := tuple(x.keys())[0]) else {key:x[key]+[y]} if l == key else x,words,{0:[]}))"
   ]
  },
  {
   "cell_type": "markdown",
   "id": "6a30ba6f",
   "metadata": {},
   "source": [
    "Описать работу данной программы можно с помощью несжатой функции"
   ]
  },
  {
   "cell_type": "code",
   "execution_count": 18,
   "id": "ae15072b",
   "metadata": {},
   "outputs": [
    {
     "name": "stdout",
     "output_type": "stream",
     "text": [
      "CPU times: total: 31.2 ms\n",
      "Wall time: 33 ms\n"
     ]
    },
    {
     "data": {
      "text/plain": [
       "{25: ['частнопредпринимательский', 'электронно-вычислительный']}"
      ]
     },
     "execution_count": 18,
     "metadata": {},
     "output_type": "execute_result"
    }
   ],
   "source": [
    "%%time\n",
    "def func(x,y):\n",
    "#     x is {key:list}\n",
    "#     key - это длина самого длинного слова, которое встретилось на данной итерации\n",
    "#     list - список элементов данной длины\n",
    "    ret = None\n",
    "    if (l:=len(y))>(key := tuple(x.keys())[0]):\n",
    "        return {l:[y]}\n",
    "    else:\n",
    "        if l == key:\n",
    "            return {key:x[key]+[y]}\n",
    "        else:\n",
    "            return x\n",
    "reduce(func,words,{0:[]})"
   ]
  },
  {
   "cell_type": "markdown",
   "id": "487387d5",
   "metadata": {},
   "source": [
    "Для большей формальности сделаем импорт и вызов в одной строчке кода"
   ]
  },
  {
   "cell_type": "code",
   "execution_count": 19,
   "id": "aaa5418c",
   "metadata": {
    "scrolled": true
   },
   "outputs": [
    {
     "name": "stdout",
     "output_type": "stream",
     "text": [
      "{25: ['частнопредпринимательский', 'электронно-вычислительный']}\n",
      "CPU times: total: 46.9 ms\n",
      "Wall time: 34 ms\n"
     ]
    }
   ],
   "source": [
    "%%time\n",
    "print(__import__(\"functools\").reduce(lambda x,y: {l:[y]} if (l := len(y)) > (key := tuple(x.keys())[0]) else {key:x[key]+[y]} if l == key else x,words,{0:[]}))"
   ]
  },
  {
   "cell_type": "markdown",
   "id": "8e42b576",
   "metadata": {},
   "source": [
    "## А почему бы нам не переписать взаимодействие"
   ]
  },
  {
   "cell_type": "markdown",
   "id": "3c5335de",
   "metadata": {},
   "source": [
    "Если мы не удовлетворены работой стандартных типов данных для какой-либо задачи, всегда можно их просто переписать."
   ]
  },
  {
   "cell_type": "code",
   "execution_count": 26,
   "id": "67297680",
   "metadata": {},
   "outputs": [],
   "source": [
    "class Max_str(list):\n",
    "    __slots__ = (\"__len\")\n",
    "    def __init__(self,args):\n",
    "        if type(args)==list:\n",
    "            self.__len = len(args[0])\n",
    "            super().__init__(args)\n",
    "        else:\n",
    "            self.__len = len(args)\n",
    "            super().__init__([args])\n",
    "    def __add__(self, other):\n",
    "        if (l1:=len(self)) == (l2:=len(other)):\n",
    "            return self.__class__(super().__add__(other))\n",
    "        return self if l1 > l2 else other\n",
    "    def __len__(self):\n",
    "        return self.__len\n",
    "    def __str__(self):\n",
    "        return f\"{len(self)}: {super().__str__()}\""
   ]
  },
  {
   "cell_type": "code",
   "execution_count": 27,
   "id": "f1ed2446",
   "metadata": {},
   "outputs": [
    {
     "name": "stdout",
     "output_type": "stream",
     "text": [
      "25: ['частнопредпринимательский', 'электронно-вычислительный']\n",
      "CPU times: total: 78.1 ms\n",
      "Wall time: 79 ms\n"
     ]
    }
   ],
   "source": [
    "%%time\n",
    "print(sum(map(Max_str,words),Max_str(\"\")))"
   ]
  },
  {
   "cell_type": "markdown",
   "id": "6eb63499",
   "metadata": {},
   "source": [
    "## Аллюзия на жизнь"
   ]
  },
  {
   "cell_type": "markdown",
   "id": "120ef321",
   "metadata": {},
   "source": [
    "Таким образом, мы видим, что в Питоне не существует решения задачи вывода всех самых длинных слов из списка слов за одну строку с асимптотикой лучше, чем O(N2) без небольших трюков.\n",
    "\n",
    "Этот факт можно рассматривать как аллюзию на жизнь. В жизни часто бывает так, что самое короткое решение не является оптимальным. Для того, чтобы добиться наилучшего результата, нам часто приходится идти на компромисс и выбирать более длинное решение.\n",
    "\n",
    "В этом случае, если мы хотим решить задачу за одну строку, мы должны пожертвовать асимптотической сложностью или читаемостью."
   ]
  }
 ],
 "metadata": {
  "kernelspec": {
   "display_name": "Python 3 (ipykernel)",
   "language": "python",
   "name": "python3"
  },
  "language_info": {
   "codemirror_mode": {
    "name": "ipython",
    "version": 3
   },
   "file_extension": ".py",
   "mimetype": "text/x-python",
   "name": "python",
   "nbconvert_exporter": "python",
   "pygments_lexer": "ipython3",
   "version": "3.8.7"
  }
 },
 "nbformat": 4,
 "nbformat_minor": 5
}
