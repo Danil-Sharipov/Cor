{
 "cells": [
  {
   "cell_type": "code",
   "execution_count": 52,
   "id": "3b672268-f04d-45cf-a2af-5c3f69633bdc",
   "metadata": {
    "tags": []
   },
   "outputs": [],
   "source": [
    "import random\n",
    "import math\n",
    "from functools import reduce"
   ]
  },
  {
   "cell_type": "code",
   "execution_count": 2,
   "id": "6e23f6bb-57cf-4415-ad74-f1b0995cd78e",
   "metadata": {
    "tags": []
   },
   "outputs": [],
   "source": [
    "ten=[[-2,0],[-2,-1],[-3,0],[4,0],[3,0],[0,0]]"
   ]
  },
  {
   "cell_type": "code",
   "execution_count": 65,
   "id": "e4fba16d-133a-45db-8cda-d08c5f9acbe3",
   "metadata": {},
   "outputs": [],
   "source": [
    "class Kmeans:\n",
    "    def __init__(self, ten, k):\n",
    "        self.ten = ten\n",
    "        self.list = random.sample(ten, k)\n",
    "        self.diction = {i:math.inf for i in range(len(ten))}\n",
    "        \n",
    "    @staticmethod\n",
    "    def r(a,b):\n",
    "        return math.sqrt(reduce(lambda x,y: x + math.pow((b[y]-a[y]),2),range(len(a)),0))\n",
    "        \n",
    "    def __iter__(self):\n",
    "        return self\n",
    "    \n",
    "    def __next__(self):\n",
    "        for indx_q, q in enumerate(self.ten):\n",
    "            mini = math.inf\n",
    "            tup = None\n",
    "            indx_f = None\n",
    "            for indx, i in enumerate(self.list):\n",
    "                r = self.r(i,q)\n",
    "                if r < mini and r != 0:\n",
    "                    tup = i\n",
    "                    mini = r\n",
    "                    self.diction[indx_q] = indx\n",
    "                    indx_f = indx\n",
    "            self.list[indx_f] = tuple(map(lambda x: (q[x]+tup[x])/2,range(len(q))))\n",
    "        return self.diction\n",
    "            \n",
    "                         \n",
    "            \n",
    "        "
   ]
  },
  {
   "cell_type": "code",
   "execution_count": 66,
   "id": "0056038e-b852-4bee-a17a-9a6404b17eaf",
   "metadata": {
    "tags": []
   },
   "outputs": [],
   "source": [
    "kn=Kmeans(ten,3)"
   ]
  },
  {
   "cell_type": "code",
   "execution_count": 67,
   "id": "aebf81c3-c03e-424e-86aa-c13eded0e996",
   "metadata": {
    "tags": []
   },
   "outputs": [
    {
     "data": {
      "text/plain": [
       "{'ten': [[-2, 0], [-2, -1], [-3, 0], [4, 0], [3, 0], [0, 0]],\n",
       " 'list': [[-2, -1], [-2, 0], [3, 0]],\n",
       " 'diction': {0: inf, 1: inf, 2: inf, 3: inf, 4: inf, 5: inf}}"
      ]
     },
     "execution_count": 67,
     "metadata": {},
     "output_type": "execute_result"
    }
   ],
   "source": [
    "kn.__dict__"
   ]
  },
  {
   "cell_type": "code",
   "execution_count": 68,
   "id": "67ccd2ac-c3fa-4fdc-9766-b8b77a76a870",
   "metadata": {
    "tags": []
   },
   "outputs": [
    {
     "name": "stdout",
     "output_type": "stream",
     "text": [
      "{0: 1, 1: 1, 2: 1, 3: 2, 4: 2, 5: 0}\n"
     ]
    }
   ],
   "source": [
    "gen = iter(kn)\n",
    "k1 = None\n",
    "while 1:\n",
    "    k2 = next(gen)\n",
    "    if k1 == k2:\n",
    "        break\n",
    "    k1 = k2\n",
    "print(k1)\n",
    "    "
   ]
  },
  {
   "cell_type": "code",
   "execution_count": null,
   "id": "5721fc88-93bf-4ff9-a6f5-5f578de3c4a6",
   "metadata": {},
   "outputs": [],
   "source": []
  }
 ],
 "metadata": {
  "kernelspec": {
   "display_name": "Python 3 (ipykernel)",
   "language": "python",
   "name": "python3"
  },
  "language_info": {
   "codemirror_mode": {
    "name": "ipython",
    "version": 3
   },
   "file_extension": ".py",
   "mimetype": "text/x-python",
   "name": "python",
   "nbconvert_exporter": "python",
   "pygments_lexer": "ipython3",
   "version": "3.8.7"
  }
 },
 "nbformat": 4,
 "nbformat_minor": 5
}
