{
 "cells": [
  {
   "cell_type": "code",
   "execution_count": null,
   "id": "235df7e9-c174-44d8-a6f3-65938718bf23",
   "metadata": {
    "tags": []
   },
   "outputs": [],
   "source": [
    "import pandas as pd\n",
    "import optuna\n",
    "from sklearn.ensemble import RandomForestClassifier\n",
    "from sklearn.model_selection import train_test_split\n",
    "import warnings\n",
    "warnings.filterwarnings('ignore')"
   ]
  },
  {
   "cell_type": "code",
   "execution_count": null,
   "id": "fd1dba1a-47c7-4c5e-a7f2-803ec30bc53f",
   "metadata": {
    "tags": []
   },
   "outputs": [],
   "source": [
    "url = 'https://stepik.org/media/attachments/course/4852/training_mush.csv'\n",
    "df = pd.read_csv(url)"
   ]
  },
  {
   "cell_type": "code",
   "execution_count": null,
   "id": "f2bdd85e-14fa-4e55-aa4f-d7e823f8f34a",
   "metadata": {
    "tags": []
   },
   "outputs": [],
   "source": [
    "df.sample(2)"
   ]
  },
  {
   "cell_type": "code",
   "execution_count": null,
   "id": "ec4b99d7-b757-4558-9fac-dfc4b5761c8f",
   "metadata": {
    "tags": []
   },
   "outputs": [],
   "source": [
    "df.info()"
   ]
  },
  {
   "cell_type": "code",
   "execution_count": null,
   "id": "b0c8cbf2-2303-4502-9167-e72692937182",
   "metadata": {
    "tags": []
   },
   "outputs": [],
   "source": [
    "X = df.drop('class',axis=1)\n",
    "y = df[['class']]"
   ]
  },
  {
   "cell_type": "code",
   "execution_count": null,
   "id": "b3e69087-be31-4dfc-8546-bfcdfc092dbc",
   "metadata": {
    "tags": []
   },
   "outputs": [],
   "source": [
    "#X_train, X_test, y_train, y_test = train_test_split(X, y, test_size = 0.2, shuffle=True)"
   ]
  },
  {
   "cell_type": "code",
   "execution_count": null,
   "id": "5533f29b-a65d-46df-b867-f68d147d1474",
   "metadata": {
    "tags": []
   },
   "outputs": [],
   "source": [
    "def model(trial):\n",
    "    n_estimators = trial.suggest_int('n_estimators',10, 50, 10)\n",
    "    max_depth = trial.suggest_int('max_depth',1, 12, 2)\n",
    "    min_samples_leaf = trial.suggest_int('min_samples_leaf',1, 7)\n",
    "    min_samples_split = trial.suggest_int('min_samples_split',2, 9, 2)\n",
    "    mod = RandomForestClassifier(criterion='entropy',random_state = 0, n_estimators=n_estimators, max_depth = max_depth, min_samples_leaf = min_samples_leaf, min_samples_split = min_samples_split)\n",
    "    mod.fit(X, y)\n",
    "    return mod.score(X, y)"
   ]
  },
  {
   "cell_type": "code",
   "execution_count": null,
   "id": "887e28a6-08ef-4929-9a39-849f7cd54ae6",
   "metadata": {
    "tags": []
   },
   "outputs": [],
   "source": [
    "study = optuna.create_study(direction='maximize')"
   ]
  },
  {
   "cell_type": "code",
   "execution_count": null,
   "id": "a31c985c-3538-41c6-9bec-be25b87ea3fd",
   "metadata": {
    "tags": []
   },
   "outputs": [],
   "source": [
    "study.optimize(model, n_trials = 100, n_jobs=-1)\n",
    "print()"
   ]
  },
  {
   "cell_type": "code",
   "execution_count": null,
   "id": "282c50da-6fc9-4d78-a1f7-a3a83034270b",
   "metadata": {
    "tags": []
   },
   "outputs": [],
   "source": [
    "study.best_trial"
   ]
  },
  {
   "cell_type": "code",
   "execution_count": null,
   "id": "c1545c0c-7f45-4d06-99eb-75cee81906aa",
   "metadata": {
    "tags": []
   },
   "outputs": [],
   "source": [
    "rfc = RandomForestClassifier(criterion='entropy', random_state = 0, n_estimators=10,max_depth=11,min_samples_leaf=4,min_samples_split=2).fit(X,y)"
   ]
  },
  {
   "cell_type": "code",
   "execution_count": null,
   "id": "1f9091c5-21a4-4971-8963-5d8abbb58164",
   "metadata": {
    "tags": []
   },
   "outputs": [],
   "source": [
    "dump(study, 'mushroom_model.joblib')\n",
    "studdy = load('mushroom_model.joblib') "
   ]
  },
  {
   "cell_type": "code",
   "execution_count": null,
   "id": "e0e61b1a-fcb4-4c1a-b5a2-0adcd806c6e0",
   "metadata": {
    "tags": []
   },
   "outputs": [],
   "source": [
    "type(studdy)"
   ]
  },
  {
   "cell_type": "code",
   "execution_count": null,
   "id": "ebc0c32c-dede-4fa9-b71f-8f19c1ddb519",
   "metadata": {},
   "outputs": [],
   "source": [
    "temp = pd.DataFrame(rfc.feature_importances_,index = X.columns, columns = ['imp']).sort_values(by='imp',ascending=False)"
   ]
  },
  {
   "cell_type": "code",
   "execution_count": null,
   "id": "b79d9fa6-10d9-4327-a2d2-703b4d549280",
   "metadata": {},
   "outputs": [],
   "source": [
    "temp"
   ]
  },
  {
   "cell_type": "code",
   "execution_count": null,
   "id": "4619cee8-0bcc-4c0b-8ec2-028416eed4cc",
   "metadata": {},
   "outputs": [],
   "source": [
    "url = 'https://stepik.org/media/attachments/course/4852/testing_mush.csv'"
   ]
  },
  {
   "cell_type": "code",
   "execution_count": null,
   "id": "162071e8-fad7-4f04-81bd-f2f83eb18fa7",
   "metadata": {},
   "outputs": [],
   "source": [
    "test = pd.read_csv(url)"
   ]
  },
  {
   "cell_type": "code",
   "execution_count": null,
   "id": "62dc036a-e92a-46b8-84fb-06eeb208c369",
   "metadata": {
    "tags": []
   },
   "outputs": [],
   "source": [
    "test.sample(2)"
   ]
  },
  {
   "cell_type": "code",
   "execution_count": null,
   "id": "ec7f1703-67d7-4773-afca-9bd0bee70a89",
   "metadata": {
    "tags": []
   },
   "outputs": [],
   "source": [
    "temp2 = rfc.predict(test)"
   ]
  },
  {
   "cell_type": "code",
   "execution_count": null,
   "id": "3c101593-b307-44e0-849a-df0ad0b20ca2",
   "metadata": {
    "tags": []
   },
   "outputs": [],
   "source": [
    "sum(temp2)"
   ]
  },
  {
   "cell_type": "code",
   "execution_count": null,
   "id": "95bb5858-5c48-4734-854e-cae3712dd073",
   "metadata": {
    "tags": []
   },
   "outputs": [],
   "source": [
    "url = 'https://stepik.org/media/attachments/course/4852/testing_y_mush.csv.zip'"
   ]
  },
  {
   "cell_type": "code",
   "execution_count": null,
   "id": "3d2e7fb5-a007-4c00-9a98-fd2cdaa60849",
   "metadata": {
    "tags": []
   },
   "outputs": [],
   "source": [
    "temp3 = pd.read_csv(url,compression = 'zip')"
   ]
  },
  {
   "cell_type": "code",
   "execution_count": null,
   "id": "394f120c-e71d-4efb-8f77-bbcecdabfc91",
   "metadata": {
    "tags": []
   },
   "outputs": [],
   "source": [
    "import numpy as np\n",
    "df = pd.DataFrame(range(10000000))\n",
    "\n",
    "%time df.apply(np.mean)\n",
    "\n",
    "%time df.apply('mean')\n",
    "\n",
    "%time df.describe().loc['mean']\n",
    "\n",
    "%time df.mean(axis=0)\n",
    "\n"
   ]
  },
  {
   "cell_type": "code",
   "execution_count": 1,
   "id": "b5a9c9d8-782e-4c28-8ed9-aa11345d9059",
   "metadata": {
    "tags": []
   },
   "outputs": [],
   "source": [
    "import catboost\n",
    "from sklearn.metrics import accuracy_score\n",
    "from sklearn.model_selection import train_test_split\n",
    "import optuna\n",
    "import pandas as pd"
   ]
  },
  {
   "cell_type": "code",
   "execution_count": 2,
   "id": "5ac5bf0a-e34b-4c87-b7b8-2199c28565b4",
   "metadata": {
    "tags": []
   },
   "outputs": [],
   "source": [
    "url = 'https://stepik.org/media/attachments/course/4852/invasion.csv'"
   ]
  },
  {
   "cell_type": "code",
   "execution_count": 3,
   "id": "98614747-aef9-42ce-b1c8-314f5330060c",
   "metadata": {
    "tags": []
   },
   "outputs": [],
   "source": [
    "df = pd.read_csv(url)"
   ]
  },
  {
   "cell_type": "code",
   "execution_count": 4,
   "id": "9fc72234-ae59-4aaa-921a-8f9aad7580df",
   "metadata": {
    "tags": []
   },
   "outputs": [
    {
     "data": {
      "text/html": [
       "<div>\n",
       "<style scoped>\n",
       "    .dataframe tbody tr th:only-of-type {\n",
       "        vertical-align: middle;\n",
       "    }\n",
       "\n",
       "    .dataframe tbody tr th {\n",
       "        vertical-align: top;\n",
       "    }\n",
       "\n",
       "    .dataframe thead th {\n",
       "        text-align: right;\n",
       "    }\n",
       "</style>\n",
       "<table border=\"1\" class=\"dataframe\">\n",
       "  <thead>\n",
       "    <tr style=\"text-align: right;\">\n",
       "      <th></th>\n",
       "      <th>class</th>\n",
       "      <th>g_reflection</th>\n",
       "      <th>i_reflection</th>\n",
       "      <th>speed</th>\n",
       "      <th>brightness</th>\n",
       "      <th>time_of_observance</th>\n",
       "      <th>volume</th>\n",
       "    </tr>\n",
       "  </thead>\n",
       "  <tbody>\n",
       "    <tr>\n",
       "      <th>423</th>\n",
       "      <td>transport</td>\n",
       "      <td>5.306101</td>\n",
       "      <td>8.113590</td>\n",
       "      <td>63.247003</td>\n",
       "      <td>0.311239</td>\n",
       "      <td>392285</td>\n",
       "      <td>41.914864</td>\n",
       "    </tr>\n",
       "    <tr>\n",
       "      <th>148</th>\n",
       "      <td>transport</td>\n",
       "      <td>2.671188</td>\n",
       "      <td>7.091415</td>\n",
       "      <td>62.034378</td>\n",
       "      <td>0.361313</td>\n",
       "      <td>458624</td>\n",
       "      <td>43.680180</td>\n",
       "    </tr>\n",
       "  </tbody>\n",
       "</table>\n",
       "</div>"
      ],
      "text/plain": [
       "         class  g_reflection  i_reflection      speed  brightness  \\\n",
       "423  transport      5.306101      8.113590  63.247003    0.311239   \n",
       "148  transport      2.671188      7.091415  62.034378    0.361313   \n",
       "\n",
       "     time_of_observance     volume  \n",
       "423              392285  41.914864  \n",
       "148              458624  43.680180  "
      ]
     },
     "execution_count": 4,
     "metadata": {},
     "output_type": "execute_result"
    }
   ],
   "source": [
    "df.sample(2)"
   ]
  },
  {
   "cell_type": "code",
   "execution_count": 5,
   "id": "d6b37789-f61a-4cf4-a956-fb231cc9013e",
   "metadata": {
    "tags": []
   },
   "outputs": [],
   "source": [
    "X = df.drop(['volume'],axis=1)\n",
    "y = df[['volume']]\n",
    "X = pd.get_dummies(X)\n",
    "X_train, X_test, y_train, y_test = train_test_split(X, y, test_size=0.2)"
   ]
  },
  {
   "cell_type": "code",
   "execution_count": 6,
   "id": "6899645f-b856-4e99-b182-b6d5e8336900",
   "metadata": {},
   "outputs": [],
   "source": [
    "def objective(trial):\n",
    "    model = catboost.CatBoostClassifier(\n",
    "        iterations=trial.suggest_int(\"iterations\", 1, 1000),\n",
    "        learning_rate=trial.suggest_float(\"learning_rate\", 1e-3, 1e-1, log=True),\n",
    "        depth=trial.suggest_int(\"depth\", 4, 10),\n",
    "        l2_leaf_reg=trial.suggest_float(\"l2_leaf_reg\", 1e-8, 100.0, log=True),\n",
    "        bootstrap_type=trial.suggest_categorical(\"bootstrap_type\", [\"Bayesian\"]),\n",
    "        random_strength=trial.suggest_float(\"random_strength\", 1e-8, 10.0, log=True),\n",
    "        bagging_temperature=trial.suggest_float(\"bagging_temperature\", 0.0, 10.0),\n",
    "        od_type=trial.suggest_categorical(\"od_type\", [\"IncToDec\", \"Iter\"]),\n",
    "        od_wait=trial.suggest_int(\"od_wait\", 10, 50),\n",
    "        verbose=False\n",
    "    )\n",
    "    model.fit(X, y)\n",
    "    y_pred = model.predict(X_test)\n",
    "    return accuracy_score(y_test, y_pred)\n",
    "# CatBoostError: Bad value for num_feature[non_default_doc_idx=0,feature_idx=0]=\"transport\": Cannot convert 'b'transport'' to float"
   ]
  },
  {
   "cell_type": "code",
   "execution_count": 9,
   "id": "676c8ff1-83f3-4e5b-8501-32242310a4ae",
   "metadata": {
    "tags": []
   },
   "outputs": [
    {
     "data": {
      "text/html": [
       "<div>\n",
       "<style scoped>\n",
       "    .dataframe tbody tr th:only-of-type {\n",
       "        vertical-align: middle;\n",
       "    }\n",
       "\n",
       "    .dataframe tbody tr th {\n",
       "        vertical-align: top;\n",
       "    }\n",
       "\n",
       "    .dataframe thead th {\n",
       "        text-align: right;\n",
       "    }\n",
       "</style>\n",
       "<table border=\"1\" class=\"dataframe\">\n",
       "  <thead>\n",
       "    <tr style=\"text-align: right;\">\n",
       "      <th></th>\n",
       "      <th>dangerous</th>\n",
       "    </tr>\n",
       "    <tr>\n",
       "      <th>buggers_were_noticed</th>\n",
       "      <th></th>\n",
       "    </tr>\n",
       "  </thead>\n",
       "  <tbody>\n",
       "    <tr>\n",
       "      <th>0</th>\n",
       "      <td>0.528782</td>\n",
       "    </tr>\n",
       "    <tr>\n",
       "      <th>1</th>\n",
       "      <td>0.930118</td>\n",
       "    </tr>\n",
       "  </tbody>\n",
       "</table>\n",
       "</div>"
      ],
      "text/plain": [
       "                      dangerous\n",
       "buggers_were_noticed           \n",
       "0                      0.528782\n",
       "1                      0.930118"
      ]
     },
     "execution_count": 9,
     "metadata": {},
     "output_type": "execute_result"
    }
   ],
   "source": [
    "df = pd.read_csv('https://stepik.org/media/attachments/course/4852/space_can_be_a_dangerous_place.csv')\n",
    "df.groupby('buggers_were_noticed').agg({'dangerous':'mean'}) "
   ]
  },
  {
   "cell_type": "code",
   "execution_count": 11,
   "id": "5bbba041-086b-416e-acac-e3f64c96c87f",
   "metadata": {
    "tags": []
   },
   "outputs": [
    {
     "data": {
      "text/html": [
       "<div>\n",
       "<style scoped>\n",
       "    .dataframe tbody tr th:only-of-type {\n",
       "        vertical-align: middle;\n",
       "    }\n",
       "\n",
       "    .dataframe tbody tr th {\n",
       "        vertical-align: top;\n",
       "    }\n",
       "\n",
       "    .dataframe thead th {\n",
       "        text-align: right;\n",
       "    }\n",
       "</style>\n",
       "<table border=\"1\" class=\"dataframe\">\n",
       "  <thead>\n",
       "    <tr style=\"text-align: right;\">\n",
       "      <th></th>\n",
       "      <th>r</th>\n",
       "      <th>phi</th>\n",
       "      <th>peradventure_index</th>\n",
       "      <th>dustiness</th>\n",
       "      <th>black_hole_is_near</th>\n",
       "      <th>buggers_were_noticed</th>\n",
       "      <th>nearby_system_has_planemo</th>\n",
       "      <th>dangerous</th>\n",
       "    </tr>\n",
       "  </thead>\n",
       "  <tbody>\n",
       "    <tr>\n",
       "      <th>r</th>\n",
       "      <td>1.000000</td>\n",
       "      <td>0.001023</td>\n",
       "      <td>1.000000</td>\n",
       "      <td>-0.003336</td>\n",
       "      <td>0.002337</td>\n",
       "      <td>0.001797</td>\n",
       "      <td>0.000326</td>\n",
       "      <td>0.005788</td>\n",
       "    </tr>\n",
       "    <tr>\n",
       "      <th>phi</th>\n",
       "      <td>0.001023</td>\n",
       "      <td>1.000000</td>\n",
       "      <td>0.001023</td>\n",
       "      <td>0.001921</td>\n",
       "      <td>0.002875</td>\n",
       "      <td>-0.004726</td>\n",
       "      <td>-0.000803</td>\n",
       "      <td>0.003035</td>\n",
       "    </tr>\n",
       "    <tr>\n",
       "      <th>peradventure_index</th>\n",
       "      <td>1.000000</td>\n",
       "      <td>0.001023</td>\n",
       "      <td>1.000000</td>\n",
       "      <td>-0.003336</td>\n",
       "      <td>0.002337</td>\n",
       "      <td>0.001797</td>\n",
       "      <td>0.000326</td>\n",
       "      <td>0.005788</td>\n",
       "    </tr>\n",
       "    <tr>\n",
       "      <th>dustiness</th>\n",
       "      <td>-0.003336</td>\n",
       "      <td>0.001921</td>\n",
       "      <td>-0.003336</td>\n",
       "      <td>1.000000</td>\n",
       "      <td>-0.004691</td>\n",
       "      <td>-0.001290</td>\n",
       "      <td>0.003370</td>\n",
       "      <td>-0.000499</td>\n",
       "    </tr>\n",
       "    <tr>\n",
       "      <th>black_hole_is_near</th>\n",
       "      <td>0.002337</td>\n",
       "      <td>0.002875</td>\n",
       "      <td>0.002337</td>\n",
       "      <td>-0.004691</td>\n",
       "      <td>1.000000</td>\n",
       "      <td>-0.001874</td>\n",
       "      <td>0.002661</td>\n",
       "      <td>0.052968</td>\n",
       "    </tr>\n",
       "    <tr>\n",
       "      <th>buggers_were_noticed</th>\n",
       "      <td>0.001797</td>\n",
       "      <td>-0.004726</td>\n",
       "      <td>0.001797</td>\n",
       "      <td>-0.001290</td>\n",
       "      <td>-0.001874</td>\n",
       "      <td>1.000000</td>\n",
       "      <td>-0.003031</td>\n",
       "      <td>0.344469</td>\n",
       "    </tr>\n",
       "    <tr>\n",
       "      <th>nearby_system_has_planemo</th>\n",
       "      <td>0.000326</td>\n",
       "      <td>-0.000803</td>\n",
       "      <td>0.000326</td>\n",
       "      <td>0.003370</td>\n",
       "      <td>0.002661</td>\n",
       "      <td>-0.003031</td>\n",
       "      <td>1.000000</td>\n",
       "      <td>0.299508</td>\n",
       "    </tr>\n",
       "    <tr>\n",
       "      <th>dangerous</th>\n",
       "      <td>0.005788</td>\n",
       "      <td>0.003035</td>\n",
       "      <td>0.005788</td>\n",
       "      <td>-0.000499</td>\n",
       "      <td>0.052968</td>\n",
       "      <td>0.344469</td>\n",
       "      <td>0.299508</td>\n",
       "      <td>1.000000</td>\n",
       "    </tr>\n",
       "  </tbody>\n",
       "</table>\n",
       "</div>"
      ],
      "text/plain": [
       "                                  r       phi  peradventure_index  dustiness  \\\n",
       "r                          1.000000  0.001023            1.000000  -0.003336   \n",
       "phi                        0.001023  1.000000            0.001023   0.001921   \n",
       "peradventure_index         1.000000  0.001023            1.000000  -0.003336   \n",
       "dustiness                 -0.003336  0.001921           -0.003336   1.000000   \n",
       "black_hole_is_near         0.002337  0.002875            0.002337  -0.004691   \n",
       "buggers_were_noticed       0.001797 -0.004726            0.001797  -0.001290   \n",
       "nearby_system_has_planemo  0.000326 -0.000803            0.000326   0.003370   \n",
       "dangerous                  0.005788  0.003035            0.005788  -0.000499   \n",
       "\n",
       "                           black_hole_is_near  buggers_were_noticed  \\\n",
       "r                                    0.002337              0.001797   \n",
       "phi                                  0.002875             -0.004726   \n",
       "peradventure_index                   0.002337              0.001797   \n",
       "dustiness                           -0.004691             -0.001290   \n",
       "black_hole_is_near                   1.000000             -0.001874   \n",
       "buggers_were_noticed                -0.001874              1.000000   \n",
       "nearby_system_has_planemo            0.002661             -0.003031   \n",
       "dangerous                            0.052968              0.344469   \n",
       "\n",
       "                           nearby_system_has_planemo  dangerous  \n",
       "r                                           0.000326   0.005788  \n",
       "phi                                        -0.000803   0.003035  \n",
       "peradventure_index                          0.000326   0.005788  \n",
       "dustiness                                   0.003370  -0.000499  \n",
       "black_hole_is_near                          0.002661   0.052968  \n",
       "buggers_were_noticed                       -0.003031   0.344469  \n",
       "nearby_system_has_planemo                   1.000000   0.299508  \n",
       "dangerous                                   0.299508   1.000000  "
      ]
     },
     "execution_count": 11,
     "metadata": {},
     "output_type": "execute_result"
    }
   ],
   "source": [
    "df.corr()"
   ]
  },
  {
   "cell_type": "code",
   "execution_count": null,
   "id": "42e6707f-ce2a-4834-a6f0-ed075e9e5538",
   "metadata": {},
   "outputs": [],
   "source": []
  }
 ],
 "metadata": {
  "kernelspec": {
   "display_name": "Python 3 (ipykernel)",
   "language": "python",
   "name": "python3"
  },
  "language_info": {
   "codemirror_mode": {
    "name": "ipython",
    "version": 3
   },
   "file_extension": ".py",
   "mimetype": "text/x-python",
   "name": "python",
   "nbconvert_exporter": "python",
   "pygments_lexer": "ipython3",
   "version": "3.8.7"
  }
 },
 "nbformat": 4,
 "nbformat_minor": 5
}
